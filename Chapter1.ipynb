{
  "nbformat": 4,
  "nbformat_minor": 0,
  "metadata": {
    "colab": {
      "name": "Chapter1.ipynb",
      "version": "0.3.2",
      "provenance": [],
      "collapsed_sections": []
    },
    "kernelspec": {
      "name": "python3",
      "display_name": "Python 3"
    },
    "accelerator": "GPU"
  },
  "cells": [
    {
      "cell_type": "markdown",
      "metadata": {
        "id": "cr6dL2pI-JUZ",
        "colab_type": "text"
      },
      "source": [
        "# 밑바닥부터 시작하는 딥러닝 2\n",
        "\n",
        "\n",
        "챕터1\n",
        "---\n"
      ]
    },
    {
      "cell_type": "markdown",
      "metadata": {
        "id": "FfnTdIYf-bf9",
        "colab_type": "text"
      },
      "source": [
        "\n",
        "1.1 수학과 파이썬 복습\n",
        "---\n",
        "\n"
      ]
    },
    {
      "cell_type": "markdown",
      "metadata": {
        "id": "VvfwLTOT-qpz",
        "colab_type": "text"
      },
      "source": [
        "벡터는 1차원 배열, 행렬은 2차원 배열\n",
        "\n",
        "벡터는 숫자가 일렬로 늘어선 집합으로 표현가능. 크기와 방향을 가진 양.\n",
        "행렬은 숫자가 2차원 형태로 늘어선 것\n",
        "\n",
        "벡터를 표현하는 방법  : 세로로 열 벡터, 가로로 행 백터\n",
        "\n",
        "수학과 딥러닝등 많은 분야에서 열벡터 방식을 선호하지만, 책에선 일단 구현 편의를 위해 행벡터를 다루겠음\n",
        "\n",
        "벡터나 행렬은 굵게 표시하기. (스칼라 와 구분)"
      ]
    },
    {
      "cell_type": "code",
      "metadata": {
        "id": "Q05aD1QE98pd",
        "colab_type": "code",
        "colab": {
          "base_uri": "https://localhost:8080/",
          "height": 70
        },
        "outputId": "fa7b90ed-c23d-4df4-9976-8dd4a2fadd2d"
      },
      "source": [
        "import numpy as np\n",
        "\n",
        "x = np.array([1 ,2, 3])\n",
        "\n",
        "print(x.__class__) # 클래스 이름 표시\n",
        "print(x.shape)\n",
        "print(x.ndim)"
      ],
      "execution_count": 1,
      "outputs": [
        {
          "output_type": "stream",
          "text": [
            "<class 'numpy.ndarray'>\n",
            "(3,)\n",
            "1\n"
          ],
          "name": "stdout"
        }
      ]
    },
    {
      "cell_type": "code",
      "metadata": {
        "id": "jVf_mWoS-88q",
        "colab_type": "code",
        "colab": {
          "base_uri": "https://localhost:8080/",
          "height": 52
        },
        "outputId": "984f14ee-bac8-4e18-c5b5-f7243e4762cc"
      },
      "source": [
        "W = np.array([[1, 2, 3], [4, 5, 6]])\n",
        "\n",
        "print(W.shape)\n",
        "print(W.ndim)"
      ],
      "execution_count": 2,
      "outputs": [
        {
          "output_type": "stream",
          "text": [
            "(2, 3)\n",
            "2\n"
          ],
          "name": "stdout"
        }
      ]
    },
    {
      "cell_type": "markdown",
      "metadata": {
        "id": "YLKfQ-KQ_sJC",
        "colab_type": "text"
      },
      "source": [
        "행렬의 element wise operation"
      ]
    },
    {
      "cell_type": "code",
      "metadata": {
        "id": "ZSEQlIcA-85m",
        "colab_type": "code",
        "colab": {
          "base_uri": "https://localhost:8080/",
          "height": 87
        },
        "outputId": "e41d3d0e-757b-4828-de9e-f6ea0be17064"
      },
      "source": [
        "W = np.array([[1, 2, 3], [4, 5, 6]])\n",
        "X = np.array([[0, 1, 2], [3, 4, 5]])\n",
        "\n",
        "print(W+X)\n",
        "print(W*X)"
      ],
      "execution_count": 3,
      "outputs": [
        {
          "output_type": "stream",
          "text": [
            "[[ 1  3  5]\n",
            " [ 7  9 11]]\n",
            "[[ 0  2  6]\n",
            " [12 20 30]]\n"
          ],
          "name": "stdout"
        }
      ]
    },
    {
      "cell_type": "markdown",
      "metadata": {
        "id": "aD7f-RbQ_-2V",
        "colab_type": "text"
      },
      "source": [
        "브로드캐스트"
      ]
    },
    {
      "cell_type": "code",
      "metadata": {
        "id": "Il3jCN76-83O",
        "colab_type": "code",
        "colab": {
          "base_uri": "https://localhost:8080/",
          "height": 52
        },
        "outputId": "6cedce0e-f57a-40c7-b5fe-8faed0f46d24"
      },
      "source": [
        "A = np.array([[1, 2], [3, 4]])\n",
        "A * 10\n",
        "# 스칼라 값이 2*2 행렬로 확장된 후 원소별 연산 수행"
      ],
      "execution_count": 4,
      "outputs": [
        {
          "output_type": "execute_result",
          "data": {
            "text/plain": [
              "array([[10, 20],\n",
              "       [30, 40]])"
            ]
          },
          "metadata": {
            "tags": []
          },
          "execution_count": 4
        }
      ]
    },
    {
      "cell_type": "code",
      "metadata": {
        "id": "mTESTiGm-80W",
        "colab_type": "code",
        "colab": {
          "base_uri": "https://localhost:8080/",
          "height": 52
        },
        "outputId": "f4d50396-7598-412e-f1e8-4f76455d4d12"
      },
      "source": [
        "A = np.array([[1, 2], [3, 4]])\n",
        "B = np.array([10, 20])\n",
        "A * B\n",
        "# 1차월 배열 B 가 값이 2 차원 배열 A와 shape 가 같도록 확장된 후 원소별 연산 수행"
      ],
      "execution_count": 5,
      "outputs": [
        {
          "output_type": "execute_result",
          "data": {
            "text/plain": [
              "array([[10, 40],\n",
              "       [30, 80]])"
            ]
          },
          "metadata": {
            "tags": []
          },
          "execution_count": 5
        }
      ]
    },
    {
      "cell_type": "markdown",
      "metadata": {
        "id": "NeTOC8SOAcdb",
        "colab_type": "text"
      },
      "source": [
        "벡터의 내적과 행렬의 곱\n",
        "\n",
        "내적은 각 원소를 대응하여 곱한 후 더한 것 - 두 벡터가 얼마나 같은 방향을 향하고 있는지. 같은 방향의 내적은 +1, 반대일시 -1"
      ]
    },
    {
      "cell_type": "code",
      "metadata": {
        "id": "LGotYoyM-8xv",
        "colab_type": "code",
        "colab": {
          "base_uri": "https://localhost:8080/",
          "height": 70
        },
        "outputId": "1abfd2d2-81f7-4cee-e522-47dc6cff1057"
      },
      "source": [
        "a = np.array([1, 2, 3])\n",
        "b = np.array([4, 5, 6])\n",
        "print(np.dot(a, b))\n",
        "\n",
        "A = np.array([[1, 2], [3, 4]])\n",
        "B = np.array([[5, 6], [7, 8]])\n",
        "print(np.matmul(A, B))\n"
      ],
      "execution_count": 6,
      "outputs": [
        {
          "output_type": "stream",
          "text": [
            "32\n",
            "[[19 22]\n",
            " [43 50]]\n"
          ],
          "name": "stdout"
        }
      ]
    },
    {
      "cell_type": "markdown",
      "metadata": {
        "id": "U0fNXAwcBFx2",
        "colab_type": "text"
      },
      "source": [
        "\n",
        "신경망의 추론\n",
        "---\n",
        "\n"
      ]
    },
    {
      "cell_type": "markdown",
      "metadata": {
        "id": "KNwaMsSzB6Ko",
        "colab_type": "text"
      },
      "source": [
        "fully connect layer 의 미니 배치 학습 - checking shape of each matrices"
      ]
    },
    {
      "cell_type": "code",
      "metadata": {
        "id": "yKST7p51-8Rk",
        "colab_type": "code",
        "colab": {}
      },
      "source": [
        "import numpy as np\n",
        "\n",
        "W1 = np.random.randn(2, 4) # 가중치\n",
        "b1 = np.random.randn(4) # 편향\n",
        "x = np.random.randn(10, 2) # 입력\n",
        "h = np.matmul(x, W1) + b1 \n"
      ],
      "execution_count": 0,
      "outputs": []
    },
    {
      "cell_type": "code",
      "metadata": {
        "id": "XMitRH_BASbw",
        "colab_type": "code",
        "colab": {}
      },
      "source": [
        "def sigmoid(x):\n",
        "    return 1 / (1 + np.exp(-x))"
      ],
      "execution_count": 0,
      "outputs": []
    },
    {
      "cell_type": "code",
      "metadata": {
        "id": "KOekGq5AASY4",
        "colab_type": "code",
        "colab": {
          "base_uri": "https://localhost:8080/",
          "height": 34
        },
        "outputId": "c81ef2e4-d04e-4a10-f8f6-c760c0398732"
      },
      "source": [
        "import numpy as np\n",
        "\n",
        "def sigmoid(x):\n",
        "    return 1 / (1 + np.exp(-x))\n",
        "\n",
        "x = np.random.randn(10, 2)\n",
        "W1 = np.random.randn(2, 4)\n",
        "b1 = np.random.randn(4)\n",
        "W2 = np.random.randn(4, 3)\n",
        "b2 = np.random.randn(3)\n",
        "\n",
        "h = np.matmul(x, W1) + b1\n",
        "a = sigmoid(h)\n",
        "s = np.matmul(a, W2) + b2\n",
        "print(s.shape)"
      ],
      "execution_count": 9,
      "outputs": [
        {
          "output_type": "stream",
          "text": [
            "(10, 3)\n"
          ],
          "name": "stdout"
        }
      ]
    },
    {
      "cell_type": "markdown",
      "metadata": {
        "id": "EhJ_EZVeC7av",
        "colab_type": "text"
      },
      "source": [
        "Fully connected layer 에 의한 변환을 Affine 계층이라고 부름 - 기하학의 Affine 변환에 해당"
      ]
    },
    {
      "cell_type": "markdown",
      "metadata": {
        "id": "gNVckfT5DLw2",
        "colab_type": "text"
      },
      "source": [
        "***구현규칙***\n",
        "\n",
        "\n",
        "forward(), backward() 메서드 구현, params 는 매개변수 담는 리스트, grads 는 params 의 매개변수에 대응하여, 해당 매개변수의 기울기를 보관하는 리스트\n",
        "\n",
        "* 이렇게 구현 규칙을 세워두고 구현하면 코드가 일관되고 확장성이 좋아짐. 아래 코드는 구현규칙을 따라서 모든 계층에는 학습해야하는 매개변수가 반드시 인스턴스 변수인 params 에 존재하게 됨. 이 덕분에 신경망의 모든 매개변수를 간단하게 정리 할 수 있고, 자연스럽게 매개변수 갱신 작업이나 매개변수를 파일로 저장하는 일이 쉬워짐"
      ]
    },
    {
      "cell_type": "code",
      "metadata": {
        "id": "WlasSYLkASWd",
        "colab_type": "code",
        "colab": {}
      },
      "source": [
        "import numpy as np\n",
        "\n",
        "class Sigmoid:\n",
        "    def __init__(self):\n",
        "        self.params = []\n",
        "        \n",
        "    def forward(self, x):\n",
        "        return 1 / (1 + np.exp(-x))\n",
        "    \n",
        "class Affine:\n",
        "    def __init__(self, W, b):\n",
        "        self.params = [W, b]\n",
        "        \n",
        "    def forward(self, x):\n",
        "        W, b = self.params\n",
        "        out = np.matmul(x, W) + b\n",
        "        return out"
      ],
      "execution_count": 0,
      "outputs": []
    },
    {
      "cell_type": "code",
      "metadata": {
        "id": "1OrW-eDDASTc",
        "colab_type": "code",
        "colab": {}
      },
      "source": [
        "class TwoLayerNet:\n",
        "    def __init__(self, input_size, hidden_size, output_size):\n",
        "        I, H, O = input_size, hidden_size, output_size\n",
        "        \n",
        "        # 가중치와 편향 초기화\n",
        "        W1 = np.random.randn(I, H)\n",
        "        b1 = np.random.randn(H)\n",
        "        W2 = np.random.randn(H, O)\n",
        "        b2 = np.random.randn(O)\n",
        "        \n",
        "        # 계층 생성\n",
        "        self.layers = [\n",
        "            Affine(W1, b1),\n",
        "            Sigmoid(),\n",
        "            Affine(W2, b2)\n",
        "        ]\n",
        "        \n",
        "        # 모든 가중치를 리스트에 모은다.\n",
        "        self.params = []\n",
        "        for layer in self.layers:\n",
        "            self.params += layer.params # 나오는 매개변수들을 하나의 리스트에 보관하기 위해 계속 더해줌. 더하면 결합\n",
        "            \n",
        "    def predict(self, x):\n",
        "        for layer in self.layers:\n",
        "            x = layer.forward(x)\n",
        "        return x    \n",
        "            \n",
        "        "
      ],
      "execution_count": 0,
      "outputs": []
    },
    {
      "cell_type": "code",
      "metadata": {
        "id": "bf6svdDmASQU",
        "colab_type": "code",
        "colab": {
          "base_uri": "https://localhost:8080/",
          "height": 34
        },
        "outputId": "b1d2cae3-f4eb-4e37-8b8e-c08fe52648ab"
      },
      "source": [
        "x = np.random.randn(10, 2)\n",
        "model = TwoLayerNet(2, 4, 3)\n",
        "s = model.predict(x)\n",
        "print(\"Shape of matrix after inference : {}\".format(s.shape))"
      ],
      "execution_count": 12,
      "outputs": [
        {
          "output_type": "stream",
          "text": [
            "Shape of matrix after inference : (10, 3)\n"
          ],
          "name": "stdout"
        }
      ]
    },
    {
      "cell_type": "markdown",
      "metadata": {
        "id": "sj6GyzYkGXO4",
        "colab_type": "text"
      },
      "source": [
        "\n",
        "1.3 신경망의 학습\n",
        "---\n",
        "\n"
      ]
    },
    {
      "cell_type": "markdown",
      "metadata": {
        "id": "SfxoZ_wwHvTt",
        "colab_type": "text"
      },
      "source": [
        "수학에서는 기울기를 벡터에 대한 미분으로 한정하지만, 딥러닝에서는 행렬과 텐서에 대해서도 미분을 정의하고 그것을 기울기라 부름"
      ]
    },
    {
      "cell_type": "markdown",
      "metadata": {
        "id": "uayL-hrCINME",
        "colab_type": "text"
      },
      "source": [
        "Computational Graph\n",
        "- 덧셈노드 : 상류에서온 기울기를 그대로 보냄. \n",
        "- 곱셈노드 : 상류에서온 기울기를 서로 입력의 반대값을 곱함\n",
        "- 분기노드 : 상류에서온 두 기울기를 더함"
      ]
    },
    {
      "cell_type": "markdown",
      "metadata": {
        "id": "svY69g5hJAsH",
        "colab_type": "text"
      },
      "source": [
        "* Repeat 노드 : N 개로 분기하는 노드 \n",
        "\n",
        "길이가 D 인 배열을 D * N 의 형태로 분기시킴."
      ]
    },
    {
      "cell_type": "code",
      "metadata": {
        "id": "6-xYzzLsASNB",
        "colab_type": "code",
        "colab": {
          "base_uri": "https://localhost:8080/",
          "height": 52
        },
        "outputId": "5d4fcb50-72d5-410f-80b6-7db729792530"
      },
      "source": [
        "import numpy as np\n",
        "D, N = 8, 7\n",
        "\n",
        "x = np.random.randn(1, 0) # 입력\n",
        "y = np.repeat(x, N, axis=0) # 순전파\n",
        "\n",
        "dy = np.random.randn(N, D) # 무작위 기울기\n",
        "dx = np.sum(dy, axis=0, keepdims=True) # 역전파\n",
        "\n",
        "print(dy.shape)\n",
        "print(dx.shape) # keepdims 가 True 일시 shape(1, N), False 일시 1차원으로 바뀌므로 (N, )\n"
      ],
      "execution_count": 13,
      "outputs": [
        {
          "output_type": "stream",
          "text": [
            "(7, 8)\n",
            "(1, 8)\n"
          ],
          "name": "stdout"
        }
      ]
    },
    {
      "cell_type": "markdown",
      "metadata": {
        "id": "TJzEOAPqJ53g",
        "colab_type": "text"
      },
      "source": [
        "* Sum 노드\n",
        "\n",
        "N * D 배열 에 대해 총합을 0축(행)에 대해 구하는 계산하기 - 즉 결과는 1 * D 의 형상으로 나올 것임\n"
      ]
    },
    {
      "cell_type": "code",
      "metadata": {
        "id": "9OltBMC1ASKl",
        "colab_type": "code",
        "colab": {
          "base_uri": "https://localhost:8080/",
          "height": 52
        },
        "outputId": "ab3c254c-3df0-4e7a-e66a-ffff6faf433f"
      },
      "source": [
        "import numpy as np\n",
        "D, N = 8, 7\n",
        "\n",
        "x = np.random.randn(1, 0) # 입력\n",
        "y =  np.sum(x, axis=0, keepdims=True) # 순전파\n",
        "\n",
        "dy = np.random.randn(N, D) # 무작위 기울기\n",
        "dx = np.repeat(dy, N, axis=0) # 역전파\n",
        "\n",
        "print(dy.shape)\n",
        "print(dx.shape) # keepdims 가 True 일시 shape(1, N), False 일시 1차원으로 바뀌므로 (N, )\n"
      ],
      "execution_count": 14,
      "outputs": [
        {
          "output_type": "stream",
          "text": [
            "(7, 8)\n",
            "(49, 8)\n"
          ],
          "name": "stdout"
        }
      ]
    },
    {
      "cell_type": "markdown",
      "metadata": {
        "id": "1BZALUEcKiv3",
        "colab_type": "text"
      },
      "source": [
        "* MatMul 노드\n",
        "\n",
        "y = x W  - x( 1* D), W(D * H), y(1 * H)  형상\n",
        "\n",
        "![image](https://user-images.githubusercontent.com/46298038/61572977-bc98ba00-aae1-11e9-9311-d76ff260435d.png)\n",
        "\n",
        "\n",
        "dL/dx   = dL/dy * W^t\\\n",
        "(N * D) = (N * H) (H * D)\n",
        "\n",
        "\n",
        "dL/dW   = X^t * dL/dy\\\n",
        "(N * D) = (D * N) (N * H)\n"
      ]
    },
    {
      "cell_type": "code",
      "metadata": {
        "id": "LKLj9WfCASIM",
        "colab_type": "code",
        "colab": {}
      },
      "source": [
        "class MatMul:\n",
        "    def __init__(self, W):\n",
        "        self.params = [W]\n",
        "        self.grads = [np.zeros_like(W)]\n",
        "        self.x = None\n",
        "        \n",
        "    def forward(self, x):\n",
        "        W, = self.params\n",
        "        out = np.matmul(x, W)\n",
        "        self.x = x\n",
        "        return out\n",
        "    \n",
        "    def backward(self, dout):\n",
        "        W, = self.params\n",
        "        dx = np.matmul(dout, W.T)\n",
        "        dW = np.matmul(self.x.T, dout)\n",
        "        self.grads[0][...] = dW # 그냥 할당하지 않고(얕은 복사) 덮어써서(깊은 복사 수행) \n",
        "        return dx"
      ],
      "execution_count": 0,
      "outputs": []
    },
    {
      "cell_type": "markdown",
      "metadata": {
        "id": "YT5rANenVvei",
        "colab_type": "text"
      },
      "source": [
        "인스턴스 변수 grads 를 위와 같잉 [...] 생략기호를 통해 변수의 메모리 주소를 고정함으로써 다루기 더 쉬워짐.\n",
        "\n",
        "추가 설명 : grads 리스트는 각 매개변수의 기울기를 저장하는데, 리스트의 각 원소는 넘파이 배열이며, 계층을 생성할 때 한 번만 생성됨. 그 이후로는 항상 '생략 기호'를 이용하기 때문에 이 넘파이 배열의 메모리 주소가 변하는 일 없이 항상 값을 덮어씀. 이렇게 하면 기울기를 그룹화 하는 작업을 최초에 한번만 하면 된다는 이점이 생김"
      ]
    },
    {
      "cell_type": "markdown",
      "metadata": {
        "id": "BAGH2B-onsnK",
        "colab_type": "text"
      },
      "source": [
        "![image](https://user-images.githubusercontent.com/46298038/61573926-9b3fca00-aaf1-11e9-89ca-0496785a6001.png)\n"
      ]
    },
    {
      "cell_type": "code",
      "metadata": {
        "id": "s-hALMVBASFC",
        "colab_type": "code",
        "colab": {}
      },
      "source": [
        "class Sigmoid:\n",
        "    def __init__(self):\n",
        "        self.params, self.grads = [], []\n",
        "        self.out = None\n",
        "    \n",
        "    def forward(self, x):\n",
        "        out = 1 / (1 + np.exp(-x))\n",
        "        self.out = out\n",
        "        return out\n",
        "    \n",
        "    def backward(self, dout):\n",
        "        dx = dout * (1.0 - self.out) * self.out\n",
        "        return dx\n",
        "       "
      ],
      "execution_count": 0,
      "outputs": []
    },
    {
      "cell_type": "markdown",
      "metadata": {
        "id": "MiMeBCNbn2KT",
        "colab_type": "text"
      },
      "source": [
        "![image](https://user-images.githubusercontent.com/46298038/61573930-ab57a980-aaf1-11e9-8f02-4c36cae3cdf1.png)\n"
      ]
    },
    {
      "cell_type": "code",
      "metadata": {
        "id": "qbbABBkUJONq",
        "colab_type": "code",
        "colab": {}
      },
      "source": [
        "class Affine:\n",
        "    def __init__(self, W, b):\n",
        "        self.params = [W, b]\n",
        "        self.grads = [np.zeros_like(W), np.zeros_like(b)]\n",
        "        self.x = None\n",
        "        \n",
        "    def forward(self, x):\n",
        "        W, b = self.params\n",
        "        out = np.matmul(x, W) + b\n",
        "        self.x = x\n",
        "        return out\n",
        "        \n",
        "    def backward(self, dout):\n",
        "        W, b = self.params\n",
        "        dx = np.matmul(dout, W.T)\n",
        "        dW = np.matmul(self.x.T, dout)\n",
        "        db = np.sum(dout, axis = 0)\n",
        "        \n",
        "        self.grads[0][...] = dW\n",
        "        self.grads[1][...] = db\n",
        "        return dx    \n",
        "    "
      ],
      "execution_count": 0,
      "outputs": []
    },
    {
      "cell_type": "markdown",
      "metadata": {
        "id": "DAAygBfGoqsz",
        "colab_type": "text"
      },
      "source": [
        "Softmax with Loss\n",
        "\n",
        "![image](https://user-images.githubusercontent.com/46298038/61573953-30db5980-aaf2-11e9-9659-0691e726612a.png)"
      ]
    },
    {
      "cell_type": "code",
      "metadata": {
        "id": "snZpU3Kdqzzx",
        "colab_type": "code",
        "colab": {}
      },
      "source": [
        "def softmax(x):\n",
        "    if x.ndim == 2:\n",
        "        x = x - x.max(axis=1, keepdims=True)\n",
        "        x = np.exp(x)\n",
        "        x /= x.sum(axis=1, keepdims=True)\n",
        "    elif x.ndim == 1:\n",
        "        x = x - np.max(x)\n",
        "        x = np.exp(x) / np.sum(np.exp(x))\n",
        "\n",
        "    return x\n",
        "\n",
        "\n",
        "def cross_entropy_error(y, t):\n",
        "    if y.ndim == 1:\n",
        "        t = t.reshape(1, t.size)\n",
        "        y = y.reshape(1, y.size)\n",
        "        \n",
        "    # 정답 데이터가 원핫 벡터일 경우 정답 레이블 인덱스로 변환\n",
        "    if t.size == y.size:\n",
        "        t = t.argmax(axis=1)\n",
        "             \n",
        "    batch_size = y.shape[0]\n",
        "\n",
        "    return -np.sum(np.log(y[np.arange(batch_size), t] + 1e-7)) / batch_size"
      ],
      "execution_count": 0,
      "outputs": []
    },
    {
      "cell_type": "code",
      "metadata": {
        "id": "H2YmfpHCJOLu",
        "colab_type": "code",
        "colab": {}
      },
      "source": [
        "class SoftmaxWithLoss:\n",
        "    def __init__(self):\n",
        "        self.params, self.grads = [], []\n",
        "        self.y = None # Softmax \\의 출력\n",
        "        self.t = None # 정답 레이블\n",
        "        \n",
        "    def forward(self, x, t):\n",
        "        self.t = t\n",
        "        self.y = softmax(x)\n",
        "        \n",
        "        # 정답 레이블이 원핫 벡터일 경우 정답의 인덱스로 변환\n",
        "        if self.t.size == self.y.size:\n",
        "            self.t = self.t.argmax(axis=1)\n",
        "            \n",
        "        loss = cross_entropy_error(self.y, self.t)\n",
        "        return loss\n",
        "\n",
        "    def backward(self, dout = 1):\n",
        "        batch_size = self.t.shape[0]\n",
        "        \n",
        "        dx = self.y.copy()\n",
        "        dx[np.arange(batch_size), self.t] -= 1\n",
        "        dx *= dout\n",
        "        dx = dx / batch_size\n",
        "        \n",
        "        return dx\n",
        "    "
      ],
      "execution_count": 0,
      "outputs": []
    },
    {
      "cell_type": "markdown",
      "metadata": {
        "id": "eyA2_1YjrNHX",
        "colab_type": "text"
      },
      "source": [
        "Update weights"
      ]
    },
    {
      "cell_type": "code",
      "metadata": {
        "id": "_ECBuQx_JOJi",
        "colab_type": "code",
        "colab": {}
      },
      "source": [
        "class SGD:\n",
        "    def __init__(self, lr = 0.01):\n",
        "        self.lr = lr\n",
        "        \n",
        "    def update(self, params, grads):\n",
        "        for i in range(len(params)):\n",
        "            params[i] -= self.lr * grads[i]\n",
        "        "
      ],
      "execution_count": 0,
      "outputs": []
    },
    {
      "cell_type": "markdown",
      "metadata": {
        "id": "3KmJiErjsXn3",
        "colab_type": "text"
      },
      "source": [
        "수행될 psuedo code"
      ]
    },
    {
      "cell_type": "code",
      "metadata": {
        "id": "tReGZooOJOFJ",
        "colab_type": "code",
        "colab": {}
      },
      "source": [
        "# model = TwoLayerNet(...)\n",
        "# optimizer = SGD()\n",
        "\n",
        "# for i in range(1000):\n",
        "#     '''\n",
        "#     x_batch, t_batch = get_mini_batch() # 미니 배치 획득\n",
        "#     loss = model.forward(x_batch, t_batch)\n",
        "#     model.backward()\n",
        "#     optimizer.update(model.params, model.grads)\n",
        "    \n",
        "#     '''\n"
      ],
      "execution_count": 0,
      "outputs": []
    },
    {
      "cell_type": "markdown",
      "metadata": {
        "id": "CH4nHBwrsdM4",
        "colab_type": "text"
      },
      "source": [
        "\n",
        "1.4 실전 문제 해결 - 스파이럴 데이터셋\n",
        "---\n",
        "\n"
      ]
    },
    {
      "cell_type": "markdown",
      "metadata": {
        "id": "QLgSCvtxtTmn",
        "colab_type": "text"
      },
      "source": [
        "spiral dataset "
      ]
    },
    {
      "cell_type": "code",
      "metadata": {
        "id": "4oqQ6iOAtTTl",
        "colab_type": "code",
        "colab": {}
      },
      "source": [
        "import numpy as np\n",
        "\n",
        "\n",
        "def load_data(seed=1984):\n",
        "    np.random.seed(seed)\n",
        "    N = 300  # 클래스당 샘플 수\n",
        "    DIM = 2  # 데어터 요소 수\n",
        "    CLS_NUM = 3  # 클래스 수\n",
        "\n",
        "    x = np.zeros((N*CLS_NUM, DIM))\n",
        "    t = np.zeros((N*CLS_NUM, CLS_NUM), dtype=np.int)\n",
        "\n",
        "    for j in range(CLS_NUM):\n",
        "        for i in range(N): # N*j, N*(j+1)):\n",
        "            rate = i / N\n",
        "            radius = 1.0*rate\n",
        "            theta = j*4.0 + 4.0*rate + np.random.randn()*0.2\n",
        "\n",
        "            ix = N*j + i\n",
        "            x[ix] = np.array([radius*np.sin(theta),\n",
        "                              radius*np.cos(theta)]).flatten()\n",
        "            t[ix, j] = 1\n",
        "\n",
        "    return x, t"
      ],
      "execution_count": 0,
      "outputs": []
    },
    {
      "cell_type": "code",
      "metadata": {
        "id": "CQoGMn3mrkVt",
        "colab_type": "code",
        "colab": {
          "base_uri": "https://localhost:8080/",
          "height": 52
        },
        "outputId": "b089c9c8-301c-4fe8-955d-b6469bcf7c62"
      },
      "source": [
        "# import sys\n",
        "# sys.path.append() # 부모 디렉토리의 파일을 가져올 수 있도록 설정\n",
        "\n",
        "# from dataset import spiral\n",
        "import matplotlib.pyplot as plt\n",
        "\n",
        "# x, t = spiral.load_data()\n",
        "x, t = load_data()\n",
        "\n",
        "print(x.shape)\n",
        "print(t.shape)\n"
      ],
      "execution_count": 43,
      "outputs": [
        {
          "output_type": "stream",
          "text": [
            "(900, 2)\n",
            "(900, 3)\n"
          ],
          "name": "stdout"
        }
      ]
    },
    {
      "cell_type": "markdown",
      "metadata": {
        "id": "Peztss9Qtfot",
        "colab_type": "text"
      },
      "source": [
        "신경망 구현"
      ]
    },
    {
      "cell_type": "code",
      "metadata": {
        "id": "q6q3QrbArkS_",
        "colab_type": "code",
        "colab": {}
      },
      "source": [
        "# import sys\n",
        "# sys.path.append('..')\n",
        "# import numpy as np\n",
        "# from common.layers import Affine, Sigmoid, SoftmaxWithLoss\n",
        "\n",
        "class TwoLayerNet:\n",
        "    def __init__(self, input_size, hidden_size, output_size):\n",
        "        I, H, O = input_size, hidden_size, output_size\n",
        "        \n",
        "        # 가중치와 편향 초기화\n",
        "        W1 = 0.01 * np.random.randn(I, H)\n",
        "        b1 = np.zeros(H)\n",
        "        W2 = 0.01 * np.random.randn(H, O)\n",
        "        b2 = np.zeros(O)\n",
        "        \n",
        "        # 계층 생성\n",
        "        self.layers = [\n",
        "            Affine(W1, b1),\n",
        "            Sigmoid(),\n",
        "            Affine(W2, b2)\n",
        "        ]\n",
        "        self.loss_layer = SoftmaxWithLoss()\n",
        "        \n",
        "        # 모든 가중치와 기울기를 리스트에 모은다\n",
        "        \n",
        "        self.params, self.grads = [], []\n",
        "        for layer in self.layers:\n",
        "            self.params += layer.params\n",
        "            self.grads += layer.grads\n",
        "        \n",
        "    def predict(self, x):\n",
        "        for layer in self.layers:\n",
        "            x = layer.forward(x)\n",
        "        return x\n",
        "    \n",
        "    def forward(self, x, t):\n",
        "        score = self.predict(x)\n",
        "        loss = self.loss_layer.forward(score, t)\n",
        "        return loss\n",
        "    \n",
        "    def backward(self, dout = 1):\n",
        "        dout = self.loss_layer.backward(dout)\n",
        "        for layer in reversed(self.layers):\n",
        "            dout = layer.backward(dout)\n",
        "        return dout\n",
        "        "
      ],
      "execution_count": 0,
      "outputs": []
    },
    {
      "cell_type": "markdown",
      "metadata": {
        "id": "SARmzKRVvKWe",
        "colab_type": "text"
      },
      "source": [
        "\n",
        "학습용 코드\n",
        "---\n",
        "\n"
      ]
    },
    {
      "cell_type": "code",
      "metadata": {
        "id": "HaxEjvGLtfTH",
        "colab_type": "code",
        "colab": {
          "base_uri": "https://localhost:8080/",
          "height": 1000
        },
        "outputId": "8e6a6799-f9a2-4f00-96e6-eb34fffaf787"
      },
      "source": [
        "# import sys\n",
        "# sys.path.appedn('..')\n",
        "# import numpy as np\n",
        "# from common.optimizer import SGD\n",
        "# from dataset import spiral\n",
        "# import matplotlib.pyplot as plt\n",
        "# from two_layer_net import TwoLayerNet\n",
        "\n",
        "# 하이퍼 파라메터 설정\n",
        "max_epoch = 300\n",
        "batch_size = 30\n",
        "hidden_size = 10\n",
        "learning_rate = 1.0\n",
        "\n",
        "\n",
        "# 데이터 읽기, 모델과 옵티마이저 생성\n",
        "x, t = load_data() # 원래는 spiral.load_data()\n",
        "model = TwoLayerNet(input_size=2, hidden_size=hidden_size, output_size=3)\n",
        "optimizer = SGD(lr=learning_rate)\n",
        "\n",
        "# 학습에 사용하는 변수\n",
        "data_size = len(x)\n",
        "max_iters = data_size // batch_size\n",
        "total_loss = 0\n",
        "loss_count = 0\n",
        "loss_list = []\n",
        "\n",
        "for epoch in range(max_epoch):\n",
        "    # 데이터 뒤섞기\n",
        "    idx = np.random.permutation(data_size)\n",
        "    x = x[idx]\n",
        "    t = t[idx]\n",
        "    \n",
        "    for iters in range(max_iters):\n",
        "        batch_x = x[iters*batch_size:(iters+1)*batch_size]\n",
        "        batch_t = t[iters*batch_size:(iters+1)*batch_size]\n",
        "        \n",
        "        # 기울기를 구해서 매개변수 갱신\n",
        "        loss = model.forward(batch_x, batch_t)\n",
        "        model.backward()\n",
        "        optimizer.update(model.params, model.grads)\n",
        "\n",
        "        total_loss += loss\n",
        "        loss_count += 1\n",
        "\n",
        "        # 정기적으로 학습 결과 출력\n",
        "\n",
        "        if (iters + 1) % 10 == 0:\n",
        "            avg_loss = total_loss / loss_count\n",
        "            print('에폭 : %d, 반복 : %d / %d, 에폭 : %.2f '% (epoch + 1, iters + 1, max_iters, avg_loss))\n",
        "            loss_list.append(avg_loss)\n",
        "            total_loss, loss_count = 0, 0\n",
        "    \n"
      ],
      "execution_count": 47,
      "outputs": [
        {
          "output_type": "stream",
          "text": [
            "에폭 : 1, 반복 : 10 / 30, 에폭 : 1.14 \n",
            "에폭 : 1, 반복 : 20 / 30, 에폭 : 1.14 \n",
            "에폭 : 1, 반복 : 30 / 30, 에폭 : 1.14 \n",
            "에폭 : 2, 반복 : 10 / 30, 에폭 : 1.14 \n",
            "에폭 : 2, 반복 : 20 / 30, 에폭 : 1.12 \n",
            "에폭 : 2, 반복 : 30 / 30, 에폭 : 1.15 \n",
            "에폭 : 3, 반복 : 10 / 30, 에폭 : 1.15 \n",
            "에폭 : 3, 반복 : 20 / 30, 에폭 : 1.14 \n",
            "에폭 : 3, 반복 : 30 / 30, 에폭 : 1.19 \n",
            "에폭 : 4, 반복 : 10 / 30, 에폭 : 1.13 \n",
            "에폭 : 4, 반복 : 20 / 30, 에폭 : 1.11 \n",
            "에폭 : 4, 반복 : 30 / 30, 에폭 : 1.09 \n",
            "에폭 : 5, 반복 : 10 / 30, 에폭 : 1.08 \n",
            "에폭 : 5, 반복 : 20 / 30, 에폭 : 1.02 \n",
            "에폭 : 5, 반복 : 30 / 30, 에폭 : 1.01 \n",
            "에폭 : 6, 반복 : 10 / 30, 에폭 : 0.96 \n",
            "에폭 : 6, 반복 : 20 / 30, 에폭 : 0.92 \n",
            "에폭 : 6, 반복 : 30 / 30, 에폭 : 0.90 \n",
            "에폭 : 7, 반복 : 10 / 30, 에폭 : 0.84 \n",
            "에폭 : 7, 반복 : 20 / 30, 에폭 : 0.82 \n",
            "에폭 : 7, 반복 : 30 / 30, 에폭 : 0.79 \n",
            "에폭 : 8, 반복 : 10 / 30, 에폭 : 0.77 \n",
            "에폭 : 8, 반복 : 20 / 30, 에폭 : 0.78 \n",
            "에폭 : 8, 반복 : 30 / 30, 에폭 : 0.78 \n",
            "에폭 : 9, 반복 : 10 / 30, 에폭 : 0.76 \n",
            "에폭 : 9, 반복 : 20 / 30, 에폭 : 0.74 \n",
            "에폭 : 9, 반복 : 30 / 30, 에폭 : 0.74 \n",
            "에폭 : 10, 반복 : 10 / 30, 에폭 : 0.77 \n",
            "에폭 : 10, 반복 : 20 / 30, 에폭 : 0.75 \n",
            "에폭 : 10, 반복 : 30 / 30, 에폭 : 0.70 \n",
            "에폭 : 11, 반복 : 10 / 30, 에폭 : 0.72 \n",
            "에폭 : 11, 반복 : 20 / 30, 에폭 : 0.76 \n",
            "에폭 : 11, 반복 : 30 / 30, 에폭 : 0.72 \n",
            "에폭 : 12, 반복 : 10 / 30, 에폭 : 0.77 \n",
            "에폭 : 12, 반복 : 20 / 30, 에폭 : 0.75 \n",
            "에폭 : 12, 반복 : 30 / 30, 에폭 : 0.69 \n",
            "에폭 : 13, 반복 : 10 / 30, 에폭 : 0.74 \n",
            "에폭 : 13, 반복 : 20 / 30, 에폭 : 0.73 \n",
            "에폭 : 13, 반복 : 30 / 30, 에폭 : 0.69 \n",
            "에폭 : 14, 반복 : 10 / 30, 에폭 : 0.68 \n",
            "에폭 : 14, 반복 : 20 / 30, 에폭 : 0.72 \n",
            "에폭 : 14, 반복 : 30 / 30, 에폭 : 0.73 \n",
            "에폭 : 15, 반복 : 10 / 30, 에폭 : 0.70 \n",
            "에폭 : 15, 반복 : 20 / 30, 에폭 : 0.70 \n",
            "에폭 : 15, 반복 : 30 / 30, 에폭 : 0.70 \n",
            "에폭 : 16, 반복 : 10 / 30, 에폭 : 0.72 \n",
            "에폭 : 16, 반복 : 20 / 30, 에폭 : 0.75 \n",
            "에폭 : 16, 반복 : 30 / 30, 에폭 : 0.66 \n",
            "에폭 : 17, 반복 : 10 / 30, 에폭 : 0.68 \n",
            "에폭 : 17, 반복 : 20 / 30, 에폭 : 0.69 \n",
            "에폭 : 17, 반복 : 30 / 30, 에폭 : 0.72 \n",
            "에폭 : 18, 반복 : 10 / 30, 에폭 : 0.69 \n",
            "에폭 : 18, 반복 : 20 / 30, 에폭 : 0.71 \n",
            "에폭 : 18, 반복 : 30 / 30, 에폭 : 0.67 \n",
            "에폭 : 19, 반복 : 10 / 30, 에폭 : 0.67 \n",
            "에폭 : 19, 반복 : 20 / 30, 에폭 : 0.68 \n",
            "에폭 : 19, 반복 : 30 / 30, 에폭 : 0.69 \n",
            "에폭 : 20, 반복 : 10 / 30, 에폭 : 0.68 \n",
            "에폭 : 20, 반복 : 20 / 30, 에폭 : 0.69 \n",
            "에폭 : 20, 반복 : 30 / 30, 에폭 : 0.66 \n",
            "에폭 : 21, 반복 : 10 / 30, 에폭 : 0.62 \n",
            "에폭 : 21, 반복 : 20 / 30, 에폭 : 0.68 \n",
            "에폭 : 21, 반복 : 30 / 30, 에폭 : 0.70 \n",
            "에폭 : 22, 반복 : 10 / 30, 에폭 : 0.63 \n",
            "에폭 : 22, 반복 : 20 / 30, 에폭 : 0.68 \n",
            "에폭 : 22, 반복 : 30 / 30, 에폭 : 0.66 \n",
            "에폭 : 23, 반복 : 10 / 30, 에폭 : 0.67 \n",
            "에폭 : 23, 반복 : 20 / 30, 에폭 : 0.66 \n",
            "에폭 : 23, 반복 : 30 / 30, 에폭 : 0.60 \n",
            "에폭 : 24, 반복 : 10 / 30, 에폭 : 0.69 \n",
            "에폭 : 24, 반복 : 20 / 30, 에폭 : 0.62 \n",
            "에폭 : 24, 반복 : 30 / 30, 에폭 : 0.62 \n",
            "에폭 : 25, 반복 : 10 / 30, 에폭 : 0.63 \n",
            "에폭 : 25, 반복 : 20 / 30, 에폭 : 0.64 \n",
            "에폭 : 25, 반복 : 30 / 30, 에폭 : 0.60 \n",
            "에폭 : 26, 반복 : 10 / 30, 에폭 : 0.64 \n",
            "에폭 : 26, 반복 : 20 / 30, 에폭 : 0.58 \n",
            "에폭 : 26, 반복 : 30 / 30, 에폭 : 0.62 \n",
            "에폭 : 27, 반복 : 10 / 30, 에폭 : 0.61 \n",
            "에폭 : 27, 반복 : 20 / 30, 에폭 : 0.59 \n",
            "에폭 : 27, 반복 : 30 / 30, 에폭 : 0.57 \n",
            "에폭 : 28, 반복 : 10 / 30, 에폭 : 0.61 \n",
            "에폭 : 28, 반복 : 20 / 30, 에폭 : 0.59 \n",
            "에폭 : 28, 반복 : 30 / 30, 에폭 : 0.54 \n",
            "에폭 : 29, 반복 : 10 / 30, 에폭 : 0.56 \n",
            "에폭 : 29, 반복 : 20 / 30, 에폭 : 0.56 \n",
            "에폭 : 29, 반복 : 30 / 30, 에폭 : 0.52 \n",
            "에폭 : 30, 반복 : 10 / 30, 에폭 : 0.52 \n",
            "에폭 : 30, 반복 : 20 / 30, 에폭 : 0.55 \n",
            "에폭 : 30, 반복 : 30 / 30, 에폭 : 0.52 \n",
            "에폭 : 31, 반복 : 10 / 30, 에폭 : 0.52 \n",
            "에폭 : 31, 반복 : 20 / 30, 에폭 : 0.51 \n",
            "에폭 : 31, 반복 : 30 / 30, 에폭 : 0.50 \n",
            "에폭 : 32, 반복 : 10 / 30, 에폭 : 0.49 \n",
            "에폭 : 32, 반복 : 20 / 30, 에폭 : 0.50 \n",
            "에폭 : 32, 반복 : 30 / 30, 에폭 : 0.48 \n",
            "에폭 : 33, 반복 : 10 / 30, 에폭 : 0.46 \n",
            "에폭 : 33, 반복 : 20 / 30, 에폭 : 0.45 \n",
            "에폭 : 33, 반복 : 30 / 30, 에폭 : 0.49 \n",
            "에폭 : 34, 반복 : 10 / 30, 에폭 : 0.44 \n",
            "에폭 : 34, 반복 : 20 / 30, 에폭 : 0.43 \n",
            "에폭 : 34, 반복 : 30 / 30, 에폭 : 0.50 \n",
            "에폭 : 35, 반복 : 10 / 30, 에폭 : 0.47 \n",
            "에폭 : 35, 반복 : 20 / 30, 에폭 : 0.47 \n",
            "에폭 : 35, 반복 : 30 / 30, 에폭 : 0.38 \n",
            "에폭 : 36, 반복 : 10 / 30, 에폭 : 0.46 \n",
            "에폭 : 36, 반복 : 20 / 30, 에폭 : 0.40 \n",
            "에폭 : 36, 반복 : 30 / 30, 에폭 : 0.41 \n",
            "에폭 : 37, 반복 : 10 / 30, 에폭 : 0.41 \n",
            "에폭 : 37, 반복 : 20 / 30, 에폭 : 0.43 \n",
            "에폭 : 37, 반복 : 30 / 30, 에폭 : 0.38 \n",
            "에폭 : 38, 반복 : 10 / 30, 에폭 : 0.38 \n",
            "에폭 : 38, 반복 : 20 / 30, 에폭 : 0.39 \n",
            "에폭 : 38, 반복 : 30 / 30, 에폭 : 0.40 \n",
            "에폭 : 39, 반복 : 10 / 30, 에폭 : 0.37 \n",
            "에폭 : 39, 반복 : 20 / 30, 에폭 : 0.36 \n",
            "에폭 : 39, 반복 : 30 / 30, 에폭 : 0.41 \n",
            "에폭 : 40, 반복 : 10 / 30, 에폭 : 0.38 \n",
            "에폭 : 40, 반복 : 20 / 30, 에폭 : 0.35 \n",
            "에폭 : 40, 반복 : 30 / 30, 에폭 : 0.36 \n",
            "에폭 : 41, 반복 : 10 / 30, 에폭 : 0.35 \n",
            "에폭 : 41, 반복 : 20 / 30, 에폭 : 0.37 \n",
            "에폭 : 41, 반복 : 30 / 30, 에폭 : 0.33 \n",
            "에폭 : 42, 반복 : 10 / 30, 에폭 : 0.35 \n",
            "에폭 : 42, 반복 : 20 / 30, 에폭 : 0.34 \n",
            "에폭 : 42, 반복 : 30 / 30, 에폭 : 0.33 \n",
            "에폭 : 43, 반복 : 10 / 30, 에폭 : 0.30 \n",
            "에폭 : 43, 반복 : 20 / 30, 에폭 : 0.33 \n",
            "에폭 : 43, 반복 : 30 / 30, 에폭 : 0.35 \n",
            "에폭 : 44, 반복 : 10 / 30, 에폭 : 0.30 \n",
            "에폭 : 44, 반복 : 20 / 30, 에폭 : 0.36 \n",
            "에폭 : 44, 반복 : 30 / 30, 에폭 : 0.30 \n",
            "에폭 : 45, 반복 : 10 / 30, 에폭 : 0.29 \n",
            "에폭 : 45, 반복 : 20 / 30, 에폭 : 0.33 \n",
            "에폭 : 45, 반복 : 30 / 30, 에폭 : 0.29 \n",
            "에폭 : 46, 반복 : 10 / 30, 에폭 : 0.30 \n",
            "에폭 : 46, 반복 : 20 / 30, 에폭 : 0.31 \n",
            "에폭 : 46, 반복 : 30 / 30, 에폭 : 0.28 \n",
            "에폭 : 47, 반복 : 10 / 30, 에폭 : 0.27 \n",
            "에폭 : 47, 반복 : 20 / 30, 에폭 : 0.32 \n",
            "에폭 : 47, 반복 : 30 / 30, 에폭 : 0.28 \n",
            "에폭 : 48, 반복 : 10 / 30, 에폭 : 0.29 \n",
            "에폭 : 48, 반복 : 20 / 30, 에폭 : 0.29 \n",
            "에폭 : 48, 반복 : 30 / 30, 에폭 : 0.27 \n",
            "에폭 : 49, 반복 : 10 / 30, 에폭 : 0.24 \n",
            "에폭 : 49, 반복 : 20 / 30, 에폭 : 0.32 \n",
            "에폭 : 49, 반복 : 30 / 30, 에폭 : 0.26 \n",
            "에폭 : 50, 반복 : 10 / 30, 에폭 : 0.29 \n",
            "에폭 : 50, 반복 : 20 / 30, 에폭 : 0.26 \n",
            "에폭 : 50, 반복 : 30 / 30, 에폭 : 0.24 \n",
            "에폭 : 51, 반복 : 10 / 30, 에폭 : 0.22 \n",
            "에폭 : 51, 반복 : 20 / 30, 에폭 : 0.28 \n",
            "에폭 : 51, 반복 : 30 / 30, 에폭 : 0.26 \n",
            "에폭 : 52, 반복 : 10 / 30, 에폭 : 0.24 \n",
            "에폭 : 52, 반복 : 20 / 30, 에폭 : 0.25 \n",
            "에폭 : 52, 반복 : 30 / 30, 에폭 : 0.25 \n",
            "에폭 : 53, 반복 : 10 / 30, 에폭 : 0.23 \n",
            "에폭 : 53, 반복 : 20 / 30, 에폭 : 0.26 \n",
            "에폭 : 53, 반복 : 30 / 30, 에폭 : 0.24 \n",
            "에폭 : 54, 반복 : 10 / 30, 에폭 : 0.22 \n",
            "에폭 : 54, 반복 : 20 / 30, 에폭 : 0.26 \n",
            "에폭 : 54, 반복 : 30 / 30, 에폭 : 0.23 \n",
            "에폭 : 55, 반복 : 10 / 30, 에폭 : 0.22 \n",
            "에폭 : 55, 반복 : 20 / 30, 에폭 : 0.23 \n",
            "에폭 : 55, 반복 : 30 / 30, 에폭 : 0.24 \n",
            "에폭 : 56, 반복 : 10 / 30, 에폭 : 0.19 \n",
            "에폭 : 56, 반복 : 20 / 30, 에폭 : 0.24 \n",
            "에폭 : 56, 반복 : 30 / 30, 에폭 : 0.25 \n",
            "에폭 : 57, 반복 : 10 / 30, 에폭 : 0.23 \n",
            "에폭 : 57, 반복 : 20 / 30, 에폭 : 0.24 \n",
            "에폭 : 57, 반복 : 30 / 30, 에폭 : 0.20 \n",
            "에폭 : 58, 반복 : 10 / 30, 에폭 : 0.23 \n",
            "에폭 : 58, 반복 : 20 / 30, 에폭 : 0.23 \n",
            "에폭 : 58, 반복 : 30 / 30, 에폭 : 0.18 \n",
            "에폭 : 59, 반복 : 10 / 30, 에폭 : 0.22 \n",
            "에폭 : 59, 반복 : 20 / 30, 에폭 : 0.20 \n",
            "에폭 : 59, 반복 : 30 / 30, 에폭 : 0.21 \n",
            "에폭 : 60, 반복 : 10 / 30, 에폭 : 0.21 \n",
            "에폭 : 60, 반복 : 20 / 30, 에폭 : 0.19 \n",
            "에폭 : 60, 반복 : 30 / 30, 에폭 : 0.22 \n",
            "에폭 : 61, 반복 : 10 / 30, 에폭 : 0.19 \n",
            "에폭 : 61, 반복 : 20 / 30, 에폭 : 0.22 \n",
            "에폭 : 61, 반복 : 30 / 30, 에폭 : 0.20 \n",
            "에폭 : 62, 반복 : 10 / 30, 에폭 : 0.23 \n",
            "에폭 : 62, 반복 : 20 / 30, 에폭 : 0.17 \n",
            "에폭 : 62, 반복 : 30 / 30, 에폭 : 0.19 \n",
            "에폭 : 63, 반복 : 10 / 30, 에폭 : 0.17 \n",
            "에폭 : 63, 반복 : 20 / 30, 에폭 : 0.23 \n",
            "에폭 : 63, 반복 : 30 / 30, 에폭 : 0.19 \n",
            "에폭 : 64, 반복 : 10 / 30, 에폭 : 0.20 \n",
            "에폭 : 64, 반복 : 20 / 30, 에폭 : 0.19 \n",
            "에폭 : 64, 반복 : 30 / 30, 에폭 : 0.19 \n",
            "에폭 : 65, 반복 : 10 / 30, 에폭 : 0.21 \n",
            "에폭 : 65, 반복 : 20 / 30, 에폭 : 0.17 \n",
            "에폭 : 65, 반복 : 30 / 30, 에폭 : 0.19 \n",
            "에폭 : 66, 반복 : 10 / 30, 에폭 : 0.19 \n",
            "에폭 : 66, 반복 : 20 / 30, 에폭 : 0.20 \n",
            "에폭 : 66, 반복 : 30 / 30, 에폭 : 0.16 \n",
            "에폭 : 67, 반복 : 10 / 30, 에폭 : 0.18 \n",
            "에폭 : 67, 반복 : 20 / 30, 에폭 : 0.15 \n",
            "에폭 : 67, 반복 : 30 / 30, 에폭 : 0.21 \n",
            "에폭 : 68, 반복 : 10 / 30, 에폭 : 0.19 \n",
            "에폭 : 68, 반복 : 20 / 30, 에폭 : 0.18 \n",
            "에폭 : 68, 반복 : 30 / 30, 에폭 : 0.16 \n",
            "에폭 : 69, 반복 : 10 / 30, 에폭 : 0.17 \n",
            "에폭 : 69, 반복 : 20 / 30, 에폭 : 0.17 \n",
            "에폭 : 69, 반복 : 30 / 30, 에폭 : 0.18 \n",
            "에폭 : 70, 반복 : 10 / 30, 에폭 : 0.19 \n",
            "에폭 : 70, 반복 : 20 / 30, 에폭 : 0.15 \n",
            "에폭 : 70, 반복 : 30 / 30, 에폭 : 0.17 \n",
            "에폭 : 71, 반복 : 10 / 30, 에폭 : 0.15 \n",
            "에폭 : 71, 반복 : 20 / 30, 에폭 : 0.19 \n",
            "에폭 : 71, 반복 : 30 / 30, 에폭 : 0.16 \n",
            "에폭 : 72, 반복 : 10 / 30, 에폭 : 0.17 \n",
            "에폭 : 72, 반복 : 20 / 30, 에폭 : 0.18 \n",
            "에폭 : 72, 반복 : 30 / 30, 에폭 : 0.16 \n",
            "에폭 : 73, 반복 : 10 / 30, 에폭 : 0.16 \n",
            "에폭 : 73, 반복 : 20 / 30, 에폭 : 0.18 \n",
            "에폭 : 73, 반복 : 30 / 30, 에폭 : 0.15 \n",
            "에폭 : 74, 반복 : 10 / 30, 에폭 : 0.15 \n",
            "에폭 : 74, 반복 : 20 / 30, 에폭 : 0.15 \n",
            "에폭 : 74, 반복 : 30 / 30, 에폭 : 0.19 \n",
            "에폭 : 75, 반복 : 10 / 30, 에폭 : 0.15 \n",
            "에폭 : 75, 반복 : 20 / 30, 에폭 : 0.13 \n",
            "에폭 : 75, 반복 : 30 / 30, 에폭 : 0.22 \n",
            "에폭 : 76, 반복 : 10 / 30, 에폭 : 0.19 \n",
            "에폭 : 76, 반복 : 20 / 30, 에폭 : 0.14 \n",
            "에폭 : 76, 반복 : 30 / 30, 에폭 : 0.15 \n",
            "에폭 : 77, 반복 : 10 / 30, 에폭 : 0.15 \n",
            "에폭 : 77, 반복 : 20 / 30, 에폭 : 0.16 \n",
            "에폭 : 77, 반복 : 30 / 30, 에폭 : 0.15 \n",
            "에폭 : 78, 반복 : 10 / 30, 에폭 : 0.15 \n",
            "에폭 : 78, 반복 : 20 / 30, 에폭 : 0.15 \n",
            "에폭 : 78, 반복 : 30 / 30, 에폭 : 0.17 \n",
            "에폭 : 79, 반복 : 10 / 30, 에폭 : 0.16 \n",
            "에폭 : 79, 반복 : 20 / 30, 에폭 : 0.16 \n",
            "에폭 : 79, 반복 : 30 / 30, 에폭 : 0.15 \n",
            "에폭 : 80, 반복 : 10 / 30, 에폭 : 0.12 \n",
            "에폭 : 80, 반복 : 20 / 30, 에폭 : 0.17 \n",
            "에폭 : 80, 반복 : 30 / 30, 에폭 : 0.16 \n",
            "에폭 : 81, 반복 : 10 / 30, 에폭 : 0.14 \n",
            "에폭 : 81, 반복 : 20 / 30, 에폭 : 0.14 \n",
            "에폭 : 81, 반복 : 30 / 30, 에폭 : 0.16 \n",
            "에폭 : 82, 반복 : 10 / 30, 에폭 : 0.13 \n",
            "에폭 : 82, 반복 : 20 / 30, 에폭 : 0.14 \n",
            "에폭 : 82, 반복 : 30 / 30, 에폭 : 0.17 \n",
            "에폭 : 83, 반복 : 10 / 30, 에폭 : 0.15 \n",
            "에폭 : 83, 반복 : 20 / 30, 에폭 : 0.13 \n",
            "에폭 : 83, 반복 : 30 / 30, 에폭 : 0.16 \n",
            "에폭 : 84, 반복 : 10 / 30, 에폭 : 0.11 \n",
            "에폭 : 84, 반복 : 20 / 30, 에폭 : 0.15 \n",
            "에폭 : 84, 반복 : 30 / 30, 에폭 : 0.17 \n",
            "에폭 : 85, 반복 : 10 / 30, 에폭 : 0.11 \n",
            "에폭 : 85, 반복 : 20 / 30, 에폭 : 0.15 \n",
            "에폭 : 85, 반복 : 30 / 30, 에폭 : 0.16 \n",
            "에폭 : 86, 반복 : 10 / 30, 에폭 : 0.13 \n",
            "에폭 : 86, 반복 : 20 / 30, 에폭 : 0.16 \n",
            "에폭 : 86, 반복 : 30 / 30, 에폭 : 0.14 \n",
            "에폭 : 87, 반복 : 10 / 30, 에폭 : 0.14 \n",
            "에폭 : 87, 반복 : 20 / 30, 에폭 : 0.15 \n",
            "에폭 : 87, 반복 : 30 / 30, 에폭 : 0.13 \n",
            "에폭 : 88, 반복 : 10 / 30, 에폭 : 0.15 \n",
            "에폭 : 88, 반복 : 20 / 30, 에폭 : 0.13 \n",
            "에폭 : 88, 반복 : 30 / 30, 에폭 : 0.14 \n",
            "에폭 : 89, 반복 : 10 / 30, 에폭 : 0.18 \n",
            "에폭 : 89, 반복 : 20 / 30, 에폭 : 0.11 \n",
            "에폭 : 89, 반복 : 30 / 30, 에폭 : 0.13 \n",
            "에폭 : 90, 반복 : 10 / 30, 에폭 : 0.16 \n",
            "에폭 : 90, 반복 : 20 / 30, 에폭 : 0.11 \n",
            "에폭 : 90, 반복 : 30 / 30, 에폭 : 0.14 \n",
            "에폭 : 91, 반복 : 10 / 30, 에폭 : 0.11 \n",
            "에폭 : 91, 반복 : 20 / 30, 에폭 : 0.15 \n",
            "에폭 : 91, 반복 : 30 / 30, 에폭 : 0.16 \n",
            "에폭 : 92, 반복 : 10 / 30, 에폭 : 0.13 \n",
            "에폭 : 92, 반복 : 20 / 30, 에폭 : 0.15 \n",
            "에폭 : 92, 반복 : 30 / 30, 에폭 : 0.13 \n",
            "에폭 : 93, 반복 : 10 / 30, 에폭 : 0.11 \n",
            "에폭 : 93, 반복 : 20 / 30, 에폭 : 0.13 \n",
            "에폭 : 93, 반복 : 30 / 30, 에폭 : 0.17 \n",
            "에폭 : 94, 반복 : 10 / 30, 에폭 : 0.11 \n",
            "에폭 : 94, 반복 : 20 / 30, 에폭 : 0.14 \n",
            "에폭 : 94, 반복 : 30 / 30, 에폭 : 0.13 \n",
            "에폭 : 95, 반복 : 10 / 30, 에폭 : 0.10 \n",
            "에폭 : 95, 반복 : 20 / 30, 에폭 : 0.15 \n",
            "에폭 : 95, 반복 : 30 / 30, 에폭 : 0.14 \n",
            "에폭 : 96, 반복 : 10 / 30, 에폭 : 0.12 \n",
            "에폭 : 96, 반복 : 20 / 30, 에폭 : 0.14 \n",
            "에폭 : 96, 반복 : 30 / 30, 에폭 : 0.12 \n",
            "에폭 : 97, 반복 : 10 / 30, 에폭 : 0.13 \n",
            "에폭 : 97, 반복 : 20 / 30, 에폭 : 0.15 \n",
            "에폭 : 97, 반복 : 30 / 30, 에폭 : 0.12 \n",
            "에폭 : 98, 반복 : 10 / 30, 에폭 : 0.12 \n",
            "에폭 : 98, 반복 : 20 / 30, 에폭 : 0.14 \n",
            "에폭 : 98, 반복 : 30 / 30, 에폭 : 0.13 \n",
            "에폭 : 99, 반복 : 10 / 30, 에폭 : 0.13 \n",
            "에폭 : 99, 반복 : 20 / 30, 에폭 : 0.13 \n",
            "에폭 : 99, 반복 : 30 / 30, 에폭 : 0.11 \n",
            "에폭 : 100, 반복 : 10 / 30, 에폭 : 0.12 \n",
            "에폭 : 100, 반복 : 20 / 30, 에폭 : 0.15 \n",
            "에폭 : 100, 반복 : 30 / 30, 에폭 : 0.10 \n",
            "에폭 : 101, 반복 : 10 / 30, 에폭 : 0.11 \n",
            "에폭 : 101, 반복 : 20 / 30, 에폭 : 0.14 \n",
            "에폭 : 101, 반복 : 30 / 30, 에폭 : 0.12 \n",
            "에폭 : 102, 반복 : 10 / 30, 에폭 : 0.15 \n",
            "에폭 : 102, 반복 : 20 / 30, 에폭 : 0.12 \n",
            "에폭 : 102, 반복 : 30 / 30, 에폭 : 0.09 \n",
            "에폭 : 103, 반복 : 10 / 30, 에폭 : 0.12 \n",
            "에폭 : 103, 반복 : 20 / 30, 에폭 : 0.13 \n",
            "에폭 : 103, 반복 : 30 / 30, 에폭 : 0.12 \n",
            "에폭 : 104, 반복 : 10 / 30, 에폭 : 0.11 \n",
            "에폭 : 104, 반복 : 20 / 30, 에폭 : 0.12 \n",
            "에폭 : 104, 반복 : 30 / 30, 에폭 : 0.14 \n",
            "에폭 : 105, 반복 : 10 / 30, 에폭 : 0.12 \n",
            "에폭 : 105, 반복 : 20 / 30, 에폭 : 0.11 \n",
            "에폭 : 105, 반복 : 30 / 30, 에폭 : 0.13 \n",
            "에폭 : 106, 반복 : 10 / 30, 에폭 : 0.10 \n",
            "에폭 : 106, 반복 : 20 / 30, 에폭 : 0.14 \n",
            "에폭 : 106, 반복 : 30 / 30, 에폭 : 0.13 \n",
            "에폭 : 107, 반복 : 10 / 30, 에폭 : 0.10 \n",
            "에폭 : 107, 반복 : 20 / 30, 에폭 : 0.13 \n",
            "에폭 : 107, 반복 : 30 / 30, 에폭 : 0.14 \n",
            "에폭 : 108, 반복 : 10 / 30, 에폭 : 0.14 \n",
            "에폭 : 108, 반복 : 20 / 30, 에폭 : 0.12 \n",
            "에폭 : 108, 반복 : 30 / 30, 에폭 : 0.10 \n",
            "에폭 : 109, 반복 : 10 / 30, 에폭 : 0.12 \n",
            "에폭 : 109, 반복 : 20 / 30, 에폭 : 0.11 \n",
            "에폭 : 109, 반복 : 30 / 30, 에폭 : 0.12 \n",
            "에폭 : 110, 반복 : 10 / 30, 에폭 : 0.10 \n",
            "에폭 : 110, 반복 : 20 / 30, 에폭 : 0.10 \n",
            "에폭 : 110, 반복 : 30 / 30, 에폭 : 0.15 \n",
            "에폭 : 111, 반복 : 10 / 30, 에폭 : 0.10 \n",
            "에폭 : 111, 반복 : 20 / 30, 에폭 : 0.14 \n",
            "에폭 : 111, 반복 : 30 / 30, 에폭 : 0.10 \n",
            "에폭 : 112, 반복 : 10 / 30, 에폭 : 0.11 \n",
            "에폭 : 112, 반복 : 20 / 30, 에폭 : 0.11 \n",
            "에폭 : 112, 반복 : 30 / 30, 에폭 : 0.13 \n",
            "에폭 : 113, 반복 : 10 / 30, 에폭 : 0.10 \n",
            "에폭 : 113, 반복 : 20 / 30, 에폭 : 0.12 \n",
            "에폭 : 113, 반복 : 30 / 30, 에폭 : 0.13 \n",
            "에폭 : 114, 반복 : 10 / 30, 에폭 : 0.14 \n",
            "에폭 : 114, 반복 : 20 / 30, 에폭 : 0.10 \n",
            "에폭 : 114, 반복 : 30 / 30, 에폭 : 0.10 \n",
            "에폭 : 115, 반복 : 10 / 30, 에폭 : 0.09 \n",
            "에폭 : 115, 반복 : 20 / 30, 에폭 : 0.10 \n",
            "에폭 : 115, 반복 : 30 / 30, 에폭 : 0.14 \n",
            "에폭 : 116, 반복 : 10 / 30, 에폭 : 0.11 \n",
            "에폭 : 116, 반복 : 20 / 30, 에폭 : 0.10 \n",
            "에폭 : 116, 반복 : 30 / 30, 에폭 : 0.13 \n",
            "에폭 : 117, 반복 : 10 / 30, 에폭 : 0.09 \n",
            "에폭 : 117, 반복 : 20 / 30, 에폭 : 0.12 \n",
            "에폭 : 117, 반복 : 30 / 30, 에폭 : 0.12 \n",
            "에폭 : 118, 반복 : 10 / 30, 에폭 : 0.11 \n",
            "에폭 : 118, 반복 : 20 / 30, 에폭 : 0.13 \n",
            "에폭 : 118, 반복 : 30 / 30, 에폭 : 0.10 \n",
            "에폭 : 119, 반복 : 10 / 30, 에폭 : 0.11 \n",
            "에폭 : 119, 반복 : 20 / 30, 에폭 : 0.12 \n",
            "에폭 : 119, 반복 : 30 / 30, 에폭 : 0.10 \n",
            "에폭 : 120, 반복 : 10 / 30, 에폭 : 0.11 \n",
            "에폭 : 120, 반복 : 20 / 30, 에폭 : 0.14 \n",
            "에폭 : 120, 반복 : 30 / 30, 에폭 : 0.09 \n",
            "에폭 : 121, 반복 : 10 / 30, 에폭 : 0.12 \n",
            "에폭 : 121, 반복 : 20 / 30, 에폭 : 0.13 \n",
            "에폭 : 121, 반복 : 30 / 30, 에폭 : 0.07 \n",
            "에폭 : 122, 반복 : 10 / 30, 에폭 : 0.10 \n",
            "에폭 : 122, 반복 : 20 / 30, 에폭 : 0.11 \n",
            "에폭 : 122, 반복 : 30 / 30, 에폭 : 0.12 \n",
            "에폭 : 123, 반복 : 10 / 30, 에폭 : 0.12 \n",
            "에폭 : 123, 반복 : 20 / 30, 에폭 : 0.10 \n",
            "에폭 : 123, 반복 : 30 / 30, 에폭 : 0.10 \n",
            "에폭 : 124, 반복 : 10 / 30, 에폭 : 0.11 \n",
            "에폭 : 124, 반복 : 20 / 30, 에폭 : 0.09 \n",
            "에폭 : 124, 반복 : 30 / 30, 에폭 : 0.12 \n",
            "에폭 : 125, 반복 : 10 / 30, 에폭 : 0.09 \n",
            "에폭 : 125, 반복 : 20 / 30, 에폭 : 0.14 \n",
            "에폭 : 125, 반복 : 30 / 30, 에폭 : 0.09 \n",
            "에폭 : 126, 반복 : 10 / 30, 에폭 : 0.08 \n",
            "에폭 : 126, 반복 : 20 / 30, 에폭 : 0.10 \n",
            "에폭 : 126, 반복 : 30 / 30, 에폭 : 0.14 \n",
            "에폭 : 127, 반복 : 10 / 30, 에폭 : 0.11 \n",
            "에폭 : 127, 반복 : 20 / 30, 에폭 : 0.09 \n",
            "에폭 : 127, 반복 : 30 / 30, 에폭 : 0.12 \n",
            "에폭 : 128, 반복 : 10 / 30, 에폭 : 0.08 \n",
            "에폭 : 128, 반복 : 20 / 30, 에폭 : 0.12 \n",
            "에폭 : 128, 반복 : 30 / 30, 에폭 : 0.12 \n",
            "에폭 : 129, 반복 : 10 / 30, 에폭 : 0.10 \n",
            "에폭 : 129, 반복 : 20 / 30, 에폭 : 0.11 \n",
            "에폭 : 129, 반복 : 30 / 30, 에폭 : 0.12 \n",
            "에폭 : 130, 반복 : 10 / 30, 에폭 : 0.11 \n",
            "에폭 : 130, 반복 : 20 / 30, 에폭 : 0.09 \n",
            "에폭 : 130, 반복 : 30 / 30, 에폭 : 0.10 \n",
            "에폭 : 131, 반복 : 10 / 30, 에폭 : 0.11 \n",
            "에폭 : 131, 반복 : 20 / 30, 에폭 : 0.10 \n",
            "에폭 : 131, 반복 : 30 / 30, 에폭 : 0.10 \n",
            "에폭 : 132, 반복 : 10 / 30, 에폭 : 0.09 \n",
            "에폭 : 132, 반복 : 20 / 30, 에폭 : 0.09 \n",
            "에폭 : 132, 반복 : 30 / 30, 에폭 : 0.14 \n",
            "에폭 : 133, 반복 : 10 / 30, 에폭 : 0.08 \n",
            "에폭 : 133, 반복 : 20 / 30, 에폭 : 0.12 \n",
            "에폭 : 133, 반복 : 30 / 30, 에폭 : 0.12 \n",
            "에폭 : 134, 반복 : 10 / 30, 에폭 : 0.10 \n",
            "에폭 : 134, 반복 : 20 / 30, 에폭 : 0.13 \n",
            "에폭 : 134, 반복 : 30 / 30, 에폭 : 0.09 \n",
            "에폭 : 135, 반복 : 10 / 30, 에폭 : 0.11 \n",
            "에폭 : 135, 반복 : 20 / 30, 에폭 : 0.08 \n",
            "에폭 : 135, 반복 : 30 / 30, 에폭 : 0.12 \n",
            "에폭 : 136, 반복 : 10 / 30, 에폭 : 0.10 \n",
            "에폭 : 136, 반복 : 20 / 30, 에폭 : 0.10 \n",
            "에폭 : 136, 반복 : 30 / 30, 에폭 : 0.10 \n",
            "에폭 : 137, 반복 : 10 / 30, 에폭 : 0.11 \n",
            "에폭 : 137, 반복 : 20 / 30, 에폭 : 0.11 \n",
            "에폭 : 137, 반복 : 30 / 30, 에폭 : 0.09 \n",
            "에폭 : 138, 반복 : 10 / 30, 에폭 : 0.10 \n",
            "에폭 : 138, 반복 : 20 / 30, 에폭 : 0.09 \n",
            "에폭 : 138, 반복 : 30 / 30, 에폭 : 0.11 \n",
            "에폭 : 139, 반복 : 10 / 30, 에폭 : 0.07 \n",
            "에폭 : 139, 반복 : 20 / 30, 에폭 : 0.13 \n",
            "에폭 : 139, 반복 : 30 / 30, 에폭 : 0.10 \n",
            "에폭 : 140, 반복 : 10 / 30, 에폭 : 0.10 \n",
            "에폭 : 140, 반복 : 20 / 30, 에폭 : 0.11 \n",
            "에폭 : 140, 반복 : 30 / 30, 에폭 : 0.10 \n",
            "에폭 : 141, 반복 : 10 / 30, 에폭 : 0.07 \n",
            "에폭 : 141, 반복 : 20 / 30, 에폭 : 0.11 \n",
            "에폭 : 141, 반복 : 30 / 30, 에폭 : 0.11 \n",
            "에폭 : 142, 반복 : 10 / 30, 에폭 : 0.09 \n",
            "에폭 : 142, 반복 : 20 / 30, 에폭 : 0.10 \n",
            "에폭 : 142, 반복 : 30 / 30, 에폭 : 0.11 \n",
            "에폭 : 143, 반복 : 10 / 30, 에폭 : 0.11 \n",
            "에폭 : 143, 반복 : 20 / 30, 에폭 : 0.09 \n",
            "에폭 : 143, 반복 : 30 / 30, 에폭 : 0.09 \n",
            "에폭 : 144, 반복 : 10 / 30, 에폭 : 0.10 \n",
            "에폭 : 144, 반복 : 20 / 30, 에폭 : 0.09 \n",
            "에폭 : 144, 반복 : 30 / 30, 에폭 : 0.10 \n",
            "에폭 : 145, 반복 : 10 / 30, 에폭 : 0.09 \n",
            "에폭 : 145, 반복 : 20 / 30, 에폭 : 0.11 \n",
            "에폭 : 145, 반복 : 30 / 30, 에폭 : 0.09 \n",
            "에폭 : 146, 반복 : 10 / 30, 에폭 : 0.12 \n",
            "에폭 : 146, 반복 : 20 / 30, 에폭 : 0.08 \n",
            "에폭 : 146, 반복 : 30 / 30, 에폭 : 0.10 \n",
            "에폭 : 147, 반복 : 10 / 30, 에폭 : 0.05 \n",
            "에폭 : 147, 반복 : 20 / 30, 에폭 : 0.14 \n",
            "에폭 : 147, 반복 : 30 / 30, 에폭 : 0.10 \n",
            "에폭 : 148, 반복 : 10 / 30, 에폭 : 0.15 \n",
            "에폭 : 148, 반복 : 20 / 30, 에폭 : 0.06 \n",
            "에폭 : 148, 반복 : 30 / 30, 에폭 : 0.09 \n",
            "에폭 : 149, 반복 : 10 / 30, 에폭 : 0.10 \n",
            "에폭 : 149, 반복 : 20 / 30, 에폭 : 0.11 \n",
            "에폭 : 149, 반복 : 30 / 30, 에폭 : 0.08 \n",
            "에폭 : 150, 반복 : 10 / 30, 에폭 : 0.10 \n",
            "에폭 : 150, 반복 : 20 / 30, 에폭 : 0.08 \n",
            "에폭 : 150, 반복 : 30 / 30, 에폭 : 0.11 \n",
            "에폭 : 151, 반복 : 10 / 30, 에폭 : 0.08 \n",
            "에폭 : 151, 반복 : 20 / 30, 에폭 : 0.08 \n",
            "에폭 : 151, 반복 : 30 / 30, 에폭 : 0.13 \n",
            "에폭 : 152, 반복 : 10 / 30, 에폭 : 0.12 \n",
            "에폭 : 152, 반복 : 20 / 30, 에폭 : 0.08 \n",
            "에폭 : 152, 반복 : 30 / 30, 에폭 : 0.08 \n",
            "에폭 : 153, 반복 : 10 / 30, 에폭 : 0.07 \n",
            "에폭 : 153, 반복 : 20 / 30, 에폭 : 0.10 \n",
            "에폭 : 153, 반복 : 30 / 30, 에폭 : 0.13 \n",
            "에폭 : 154, 반복 : 10 / 30, 에폭 : 0.11 \n",
            "에폭 : 154, 반복 : 20 / 30, 에폭 : 0.09 \n",
            "에폭 : 154, 반복 : 30 / 30, 에폭 : 0.09 \n",
            "에폭 : 155, 반복 : 10 / 30, 에폭 : 0.10 \n",
            "에폭 : 155, 반복 : 20 / 30, 에폭 : 0.08 \n",
            "에폭 : 155, 반복 : 30 / 30, 에폭 : 0.10 \n",
            "에폭 : 156, 반복 : 10 / 30, 에폭 : 0.11 \n",
            "에폭 : 156, 반복 : 20 / 30, 에폭 : 0.06 \n",
            "에폭 : 156, 반복 : 30 / 30, 에폭 : 0.11 \n",
            "에폭 : 157, 반복 : 10 / 30, 에폭 : 0.13 \n",
            "에폭 : 157, 반복 : 20 / 30, 에폭 : 0.09 \n",
            "에폭 : 157, 반복 : 30 / 30, 에폭 : 0.08 \n",
            "에폭 : 158, 반복 : 10 / 30, 에폭 : 0.08 \n",
            "에폭 : 158, 반복 : 20 / 30, 에폭 : 0.10 \n",
            "에폭 : 158, 반복 : 30 / 30, 에폭 : 0.10 \n",
            "에폭 : 159, 반복 : 10 / 30, 에폭 : 0.08 \n",
            "에폭 : 159, 반복 : 20 / 30, 에폭 : 0.11 \n",
            "에폭 : 159, 반복 : 30 / 30, 에폭 : 0.08 \n",
            "에폭 : 160, 반복 : 10 / 30, 에폭 : 0.10 \n",
            "에폭 : 160, 반복 : 20 / 30, 에폭 : 0.09 \n",
            "에폭 : 160, 반복 : 30 / 30, 에폭 : 0.10 \n",
            "에폭 : 161, 반복 : 10 / 30, 에폭 : 0.09 \n",
            "에폭 : 161, 반복 : 20 / 30, 에폭 : 0.10 \n",
            "에폭 : 161, 반복 : 30 / 30, 에폭 : 0.09 \n",
            "에폭 : 162, 반복 : 10 / 30, 에폭 : 0.10 \n",
            "에폭 : 162, 반복 : 20 / 30, 에폭 : 0.08 \n",
            "에폭 : 162, 반복 : 30 / 30, 에폭 : 0.09 \n",
            "에폭 : 163, 반복 : 10 / 30, 에폭 : 0.06 \n",
            "에폭 : 163, 반복 : 20 / 30, 에폭 : 0.13 \n",
            "에폭 : 163, 반복 : 30 / 30, 에폭 : 0.08 \n",
            "에폭 : 164, 반복 : 10 / 30, 에폭 : 0.11 \n",
            "에폭 : 164, 반복 : 20 / 30, 에폭 : 0.07 \n",
            "에폭 : 164, 반복 : 30 / 30, 에폭 : 0.10 \n",
            "에폭 : 165, 반복 : 10 / 30, 에폭 : 0.09 \n",
            "에폭 : 165, 반복 : 20 / 30, 에폭 : 0.08 \n",
            "에폭 : 165, 반복 : 30 / 30, 에폭 : 0.10 \n",
            "에폭 : 166, 반복 : 10 / 30, 에폭 : 0.10 \n",
            "에폭 : 166, 반복 : 20 / 30, 에폭 : 0.09 \n",
            "에폭 : 166, 반복 : 30 / 30, 에폭 : 0.08 \n",
            "에폭 : 167, 반복 : 10 / 30, 에폭 : 0.11 \n",
            "에폭 : 167, 반복 : 20 / 30, 에폭 : 0.07 \n",
            "에폭 : 167, 반복 : 30 / 30, 에폭 : 0.08 \n",
            "에폭 : 168, 반복 : 10 / 30, 에폭 : 0.10 \n",
            "에폭 : 168, 반복 : 20 / 30, 에폭 : 0.07 \n",
            "에폭 : 168, 반복 : 30 / 30, 에폭 : 0.10 \n",
            "에폭 : 169, 반복 : 10 / 30, 에폭 : 0.11 \n",
            "에폭 : 169, 반복 : 20 / 30, 에폭 : 0.07 \n",
            "에폭 : 169, 반복 : 30 / 30, 에폭 : 0.09 \n",
            "에폭 : 170, 반복 : 10 / 30, 에폭 : 0.08 \n",
            "에폭 : 170, 반복 : 20 / 30, 에폭 : 0.11 \n",
            "에폭 : 170, 반복 : 30 / 30, 에폭 : 0.08 \n",
            "에폭 : 171, 반복 : 10 / 30, 에폭 : 0.07 \n",
            "에폭 : 171, 반복 : 20 / 30, 에폭 : 0.08 \n",
            "에폭 : 171, 반복 : 30 / 30, 에폭 : 0.12 \n",
            "에폭 : 172, 반복 : 10 / 30, 에폭 : 0.08 \n",
            "에폭 : 172, 반복 : 20 / 30, 에폭 : 0.07 \n",
            "에폭 : 172, 반복 : 30 / 30, 에폭 : 0.12 \n",
            "에폭 : 173, 반복 : 10 / 30, 에폭 : 0.08 \n",
            "에폭 : 173, 반복 : 20 / 30, 에폭 : 0.11 \n",
            "에폭 : 173, 반복 : 30 / 30, 에폭 : 0.08 \n",
            "에폭 : 174, 반복 : 10 / 30, 에폭 : 0.09 \n",
            "에폭 : 174, 반복 : 20 / 30, 에폭 : 0.10 \n",
            "에폭 : 174, 반복 : 30 / 30, 에폭 : 0.08 \n",
            "에폭 : 175, 반복 : 10 / 30, 에폭 : 0.10 \n",
            "에폭 : 175, 반복 : 20 / 30, 에폭 : 0.08 \n",
            "에폭 : 175, 반복 : 30 / 30, 에폭 : 0.09 \n",
            "에폭 : 176, 반복 : 10 / 30, 에폭 : 0.11 \n",
            "에폭 : 176, 반복 : 20 / 30, 에폭 : 0.08 \n",
            "에폭 : 176, 반복 : 30 / 30, 에폭 : 0.08 \n",
            "에폭 : 177, 반복 : 10 / 30, 에폭 : 0.09 \n",
            "에폭 : 177, 반복 : 20 / 30, 에폭 : 0.06 \n",
            "에폭 : 177, 반복 : 30 / 30, 에폭 : 0.11 \n",
            "에폭 : 178, 반복 : 10 / 30, 에폭 : 0.06 \n",
            "에폭 : 178, 반복 : 20 / 30, 에폭 : 0.13 \n",
            "에폭 : 178, 반복 : 30 / 30, 에폭 : 0.07 \n",
            "에폭 : 179, 반복 : 10 / 30, 에폭 : 0.08 \n",
            "에폭 : 179, 반복 : 20 / 30, 에폭 : 0.06 \n",
            "에폭 : 179, 반복 : 30 / 30, 에폭 : 0.13 \n",
            "에폭 : 180, 반복 : 10 / 30, 에폭 : 0.11 \n",
            "에폭 : 180, 반복 : 20 / 30, 에폭 : 0.06 \n",
            "에폭 : 180, 반복 : 30 / 30, 에폭 : 0.10 \n",
            "에폭 : 181, 반복 : 10 / 30, 에폭 : 0.10 \n",
            "에폭 : 181, 반복 : 20 / 30, 에폭 : 0.09 \n",
            "에폭 : 181, 반복 : 30 / 30, 에폭 : 0.07 \n",
            "에폭 : 182, 반복 : 10 / 30, 에폭 : 0.09 \n",
            "에폭 : 182, 반복 : 20 / 30, 에폭 : 0.07 \n",
            "에폭 : 182, 반복 : 30 / 30, 에폭 : 0.10 \n",
            "에폭 : 183, 반복 : 10 / 30, 에폭 : 0.09 \n",
            "에폭 : 183, 반복 : 20 / 30, 에폭 : 0.08 \n",
            "에폭 : 183, 반복 : 30 / 30, 에폭 : 0.09 \n",
            "에폭 : 184, 반복 : 10 / 30, 에폭 : 0.07 \n",
            "에폭 : 184, 반복 : 20 / 30, 에폭 : 0.08 \n",
            "에폭 : 184, 반복 : 30 / 30, 에폭 : 0.10 \n",
            "에폭 : 185, 반복 : 10 / 30, 에폭 : 0.10 \n",
            "에폭 : 185, 반복 : 20 / 30, 에폭 : 0.09 \n",
            "에폭 : 185, 반복 : 30 / 30, 에폭 : 0.08 \n",
            "에폭 : 186, 반복 : 10 / 30, 에폭 : 0.09 \n",
            "에폭 : 186, 반복 : 20 / 30, 에폭 : 0.08 \n",
            "에폭 : 186, 반복 : 30 / 30, 에폭 : 0.09 \n",
            "에폭 : 187, 반복 : 10 / 30, 에폭 : 0.10 \n",
            "에폭 : 187, 반복 : 20 / 30, 에폭 : 0.08 \n",
            "에폭 : 187, 반복 : 30 / 30, 에폭 : 0.08 \n",
            "에폭 : 188, 반복 : 10 / 30, 에폭 : 0.09 \n",
            "에폭 : 188, 반복 : 20 / 30, 에폭 : 0.06 \n",
            "에폭 : 188, 반복 : 30 / 30, 에폭 : 0.09 \n",
            "에폭 : 189, 반복 : 10 / 30, 에폭 : 0.07 \n",
            "에폭 : 189, 반복 : 20 / 30, 에폭 : 0.10 \n",
            "에폭 : 189, 반복 : 30 / 30, 에폭 : 0.08 \n",
            "에폭 : 190, 반복 : 10 / 30, 에폭 : 0.08 \n",
            "에폭 : 190, 반복 : 20 / 30, 에폭 : 0.10 \n",
            "에폭 : 190, 반복 : 30 / 30, 에폭 : 0.07 \n",
            "에폭 : 191, 반복 : 10 / 30, 에폭 : 0.08 \n",
            "에폭 : 191, 반복 : 20 / 30, 에폭 : 0.09 \n",
            "에폭 : 191, 반복 : 30 / 30, 에폭 : 0.09 \n",
            "에폭 : 192, 반복 : 10 / 30, 에폭 : 0.07 \n",
            "에폭 : 192, 반복 : 20 / 30, 에폭 : 0.08 \n",
            "에폭 : 192, 반복 : 30 / 30, 에폭 : 0.10 \n",
            "에폭 : 193, 반복 : 10 / 30, 에폭 : 0.09 \n",
            "에폭 : 193, 반복 : 20 / 30, 에폭 : 0.09 \n",
            "에폭 : 193, 반복 : 30 / 30, 에폭 : 0.07 \n",
            "에폭 : 194, 반복 : 10 / 30, 에폭 : 0.10 \n",
            "에폭 : 194, 반복 : 20 / 30, 에폭 : 0.08 \n",
            "에폭 : 194, 반복 : 30 / 30, 에폭 : 0.08 \n",
            "에폭 : 195, 반복 : 10 / 30, 에폭 : 0.08 \n",
            "에폭 : 195, 반복 : 20 / 30, 에폭 : 0.10 \n",
            "에폭 : 195, 반복 : 30 / 30, 에폭 : 0.07 \n",
            "에폭 : 196, 반복 : 10 / 30, 에폭 : 0.09 \n",
            "에폭 : 196, 반복 : 20 / 30, 에폭 : 0.07 \n",
            "에폭 : 196, 반복 : 30 / 30, 에폭 : 0.09 \n",
            "에폭 : 197, 반복 : 10 / 30, 에폭 : 0.07 \n",
            "에폭 : 197, 반복 : 20 / 30, 에폭 : 0.09 \n",
            "에폭 : 197, 반복 : 30 / 30, 에폭 : 0.09 \n",
            "에폭 : 198, 반복 : 10 / 30, 에폭 : 0.10 \n",
            "에폭 : 198, 반복 : 20 / 30, 에폭 : 0.07 \n",
            "에폭 : 198, 반복 : 30 / 30, 에폭 : 0.09 \n",
            "에폭 : 199, 반복 : 10 / 30, 에폭 : 0.07 \n",
            "에폭 : 199, 반복 : 20 / 30, 에폭 : 0.10 \n",
            "에폭 : 199, 반복 : 30 / 30, 에폭 : 0.08 \n",
            "에폭 : 200, 반복 : 10 / 30, 에폭 : 0.08 \n",
            "에폭 : 200, 반복 : 20 / 30, 에폭 : 0.10 \n",
            "에폭 : 200, 반복 : 30 / 30, 에폭 : 0.06 \n",
            "에폭 : 201, 반복 : 10 / 30, 에폭 : 0.08 \n",
            "에폭 : 201, 반복 : 20 / 30, 에폭 : 0.07 \n",
            "에폭 : 201, 반복 : 30 / 30, 에폭 : 0.10 \n",
            "에폭 : 202, 반복 : 10 / 30, 에폭 : 0.12 \n",
            "에폭 : 202, 반복 : 20 / 30, 에폭 : 0.06 \n",
            "에폭 : 202, 반복 : 30 / 30, 에폭 : 0.07 \n",
            "에폭 : 203, 반복 : 10 / 30, 에폭 : 0.09 \n",
            "에폭 : 203, 반복 : 20 / 30, 에폭 : 0.06 \n",
            "에폭 : 203, 반복 : 30 / 30, 에폭 : 0.09 \n",
            "에폭 : 204, 반복 : 10 / 30, 에폭 : 0.09 \n",
            "에폭 : 204, 반복 : 20 / 30, 에폭 : 0.06 \n",
            "에폭 : 204, 반복 : 30 / 30, 에폭 : 0.10 \n",
            "에폭 : 205, 반복 : 10 / 30, 에폭 : 0.08 \n",
            "에폭 : 205, 반복 : 20 / 30, 에폭 : 0.09 \n",
            "에폭 : 205, 반복 : 30 / 30, 에폭 : 0.07 \n",
            "에폭 : 206, 반복 : 10 / 30, 에폭 : 0.09 \n",
            "에폭 : 206, 반복 : 20 / 30, 에폭 : 0.09 \n",
            "에폭 : 206, 반복 : 30 / 30, 에폭 : 0.05 \n",
            "에폭 : 207, 반복 : 10 / 30, 에폭 : 0.08 \n",
            "에폭 : 207, 반복 : 20 / 30, 에폭 : 0.08 \n",
            "에폭 : 207, 반복 : 30 / 30, 에폭 : 0.09 \n",
            "에폭 : 208, 반복 : 10 / 30, 에폭 : 0.07 \n",
            "에폭 : 208, 반복 : 20 / 30, 에폭 : 0.10 \n",
            "에폭 : 208, 반복 : 30 / 30, 에폭 : 0.07 \n",
            "에폭 : 209, 반복 : 10 / 30, 에폭 : 0.09 \n",
            "에폭 : 209, 반복 : 20 / 30, 에폭 : 0.08 \n",
            "에폭 : 209, 반복 : 30 / 30, 에폭 : 0.07 \n",
            "에폭 : 210, 반복 : 10 / 30, 에폭 : 0.08 \n",
            "에폭 : 210, 반복 : 20 / 30, 에폭 : 0.10 \n",
            "에폭 : 210, 반복 : 30 / 30, 에폭 : 0.06 \n",
            "에폭 : 211, 반복 : 10 / 30, 에폭 : 0.11 \n",
            "에폭 : 211, 반복 : 20 / 30, 에폭 : 0.07 \n",
            "에폭 : 211, 반복 : 30 / 30, 에폭 : 0.07 \n",
            "에폭 : 212, 반복 : 10 / 30, 에폭 : 0.09 \n",
            "에폭 : 212, 반복 : 20 / 30, 에폭 : 0.07 \n",
            "에폭 : 212, 반복 : 30 / 30, 에폭 : 0.09 \n",
            "에폭 : 213, 반복 : 10 / 30, 에폭 : 0.08 \n",
            "에폭 : 213, 반복 : 20 / 30, 에폭 : 0.09 \n",
            "에폭 : 213, 반복 : 30 / 30, 에폭 : 0.07 \n",
            "에폭 : 214, 반복 : 10 / 30, 에폭 : 0.11 \n",
            "에폭 : 214, 반복 : 20 / 30, 에폭 : 0.07 \n",
            "에폭 : 214, 반복 : 30 / 30, 에폭 : 0.06 \n",
            "에폭 : 215, 반복 : 10 / 30, 에폭 : 0.10 \n",
            "에폭 : 215, 반복 : 20 / 30, 에폭 : 0.07 \n",
            "에폭 : 215, 반복 : 30 / 30, 에폭 : 0.07 \n",
            "에폭 : 216, 반복 : 10 / 30, 에폭 : 0.07 \n",
            "에폭 : 216, 반복 : 20 / 30, 에폭 : 0.08 \n",
            "에폭 : 216, 반복 : 30 / 30, 에폭 : 0.09 \n",
            "에폭 : 217, 반복 : 10 / 30, 에폭 : 0.08 \n",
            "에폭 : 217, 반복 : 20 / 30, 에폭 : 0.09 \n",
            "에폭 : 217, 반복 : 30 / 30, 에폭 : 0.06 \n",
            "에폭 : 218, 반복 : 10 / 30, 에폭 : 0.06 \n",
            "에폭 : 218, 반복 : 20 / 30, 에폭 : 0.09 \n",
            "에폭 : 218, 반복 : 30 / 30, 에폭 : 0.09 \n",
            "에폭 : 219, 반복 : 10 / 30, 에폭 : 0.07 \n",
            "에폭 : 219, 반복 : 20 / 30, 에폭 : 0.10 \n",
            "에폭 : 219, 반복 : 30 / 30, 에폭 : 0.07 \n",
            "에폭 : 220, 반복 : 10 / 30, 에폭 : 0.09 \n",
            "에폭 : 220, 반복 : 20 / 30, 에폭 : 0.08 \n",
            "에폭 : 220, 반복 : 30 / 30, 에폭 : 0.06 \n",
            "에폭 : 221, 반복 : 10 / 30, 에폭 : 0.07 \n",
            "에폭 : 221, 반복 : 20 / 30, 에폭 : 0.10 \n",
            "에폭 : 221, 반복 : 30 / 30, 에폭 : 0.06 \n",
            "에폭 : 222, 반복 : 10 / 30, 에폭 : 0.07 \n",
            "에폭 : 222, 반복 : 20 / 30, 에폭 : 0.09 \n",
            "에폭 : 222, 반복 : 30 / 30, 에폭 : 0.07 \n",
            "에폭 : 223, 반복 : 10 / 30, 에폭 : 0.07 \n",
            "에폭 : 223, 반복 : 20 / 30, 에폭 : 0.09 \n",
            "에폭 : 223, 반복 : 30 / 30, 에폭 : 0.07 \n",
            "에폭 : 224, 반복 : 10 / 30, 에폭 : 0.06 \n",
            "에폭 : 224, 반복 : 20 / 30, 에폭 : 0.07 \n",
            "에폭 : 224, 반복 : 30 / 30, 에폭 : 0.10 \n",
            "에폭 : 225, 반복 : 10 / 30, 에폭 : 0.07 \n",
            "에폭 : 225, 반복 : 20 / 30, 에폭 : 0.08 \n",
            "에폭 : 225, 반복 : 30 / 30, 에폭 : 0.08 \n",
            "에폭 : 226, 반복 : 10 / 30, 에폭 : 0.06 \n",
            "에폭 : 226, 반복 : 20 / 30, 에폭 : 0.09 \n",
            "에폭 : 226, 반복 : 30 / 30, 에폭 : 0.08 \n",
            "에폭 : 227, 반복 : 10 / 30, 에폭 : 0.08 \n",
            "에폭 : 227, 반복 : 20 / 30, 에폭 : 0.09 \n",
            "에폭 : 227, 반복 : 30 / 30, 에폭 : 0.06 \n",
            "에폭 : 228, 반복 : 10 / 30, 에폭 : 0.06 \n",
            "에폭 : 228, 반복 : 20 / 30, 에폭 : 0.07 \n",
            "에폭 : 228, 반복 : 30 / 30, 에폭 : 0.10 \n",
            "에폭 : 229, 반복 : 10 / 30, 에폭 : 0.07 \n",
            "에폭 : 229, 반복 : 20 / 30, 에폭 : 0.07 \n",
            "에폭 : 229, 반복 : 30 / 30, 에폭 : 0.09 \n",
            "에폭 : 230, 반복 : 10 / 30, 에폭 : 0.08 \n",
            "에폭 : 230, 반복 : 20 / 30, 에폭 : 0.09 \n",
            "에폭 : 230, 반복 : 30 / 30, 에폭 : 0.06 \n",
            "에폭 : 231, 반복 : 10 / 30, 에폭 : 0.08 \n",
            "에폭 : 231, 반복 : 20 / 30, 에폭 : 0.06 \n",
            "에폭 : 231, 반복 : 30 / 30, 에폭 : 0.09 \n",
            "에폭 : 232, 반복 : 10 / 30, 에폭 : 0.10 \n",
            "에폭 : 232, 반복 : 20 / 30, 에폭 : 0.07 \n",
            "에폭 : 232, 반복 : 30 / 30, 에폭 : 0.06 \n",
            "에폭 : 233, 반복 : 10 / 30, 에폭 : 0.06 \n",
            "에폭 : 233, 반복 : 20 / 30, 에폭 : 0.09 \n",
            "에폭 : 233, 반복 : 30 / 30, 에폭 : 0.08 \n",
            "에폭 : 234, 반복 : 10 / 30, 에폭 : 0.07 \n",
            "에폭 : 234, 반복 : 20 / 30, 에폭 : 0.07 \n",
            "에폭 : 234, 반복 : 30 / 30, 에폭 : 0.09 \n",
            "에폭 : 235, 반복 : 10 / 30, 에폭 : 0.08 \n",
            "에폭 : 235, 반복 : 20 / 30, 에폭 : 0.08 \n",
            "에폭 : 235, 반복 : 30 / 30, 에폭 : 0.07 \n",
            "에폭 : 236, 반복 : 10 / 30, 에폭 : 0.06 \n",
            "에폭 : 236, 반복 : 20 / 30, 에폭 : 0.10 \n",
            "에폭 : 236, 반복 : 30 / 30, 에폭 : 0.06 \n",
            "에폭 : 237, 반복 : 10 / 30, 에폭 : 0.06 \n",
            "에폭 : 237, 반복 : 20 / 30, 에폭 : 0.10 \n",
            "에폭 : 237, 반복 : 30 / 30, 에폭 : 0.06 \n",
            "에폭 : 238, 반복 : 10 / 30, 에폭 : 0.08 \n",
            "에폭 : 238, 반복 : 20 / 30, 에폭 : 0.08 \n",
            "에폭 : 238, 반복 : 30 / 30, 에폭 : 0.07 \n",
            "에폭 : 239, 반복 : 10 / 30, 에폭 : 0.09 \n",
            "에폭 : 239, 반복 : 20 / 30, 에폭 : 0.07 \n",
            "에폭 : 239, 반복 : 30 / 30, 에폭 : 0.06 \n",
            "에폭 : 240, 반복 : 10 / 30, 에폭 : 0.10 \n",
            "에폭 : 240, 반복 : 20 / 30, 에폭 : 0.06 \n",
            "에폭 : 240, 반복 : 30 / 30, 에폭 : 0.07 \n",
            "에폭 : 241, 반복 : 10 / 30, 에폭 : 0.08 \n",
            "에폭 : 241, 반복 : 20 / 30, 에폭 : 0.08 \n",
            "에폭 : 241, 반복 : 30 / 30, 에폭 : 0.07 \n",
            "에폭 : 242, 반복 : 10 / 30, 에폭 : 0.08 \n",
            "에폭 : 242, 반복 : 20 / 30, 에폭 : 0.08 \n",
            "에폭 : 242, 반복 : 30 / 30, 에폭 : 0.06 \n",
            "에폭 : 243, 반복 : 10 / 30, 에폭 : 0.07 \n",
            "에폭 : 243, 반복 : 20 / 30, 에폭 : 0.07 \n",
            "에폭 : 243, 반복 : 30 / 30, 에폭 : 0.08 \n",
            "에폭 : 244, 반복 : 10 / 30, 에폭 : 0.08 \n",
            "에폭 : 244, 반복 : 20 / 30, 에폭 : 0.05 \n",
            "에폭 : 244, 반복 : 30 / 30, 에폭 : 0.09 \n",
            "에폭 : 245, 반복 : 10 / 30, 에폭 : 0.07 \n",
            "에폭 : 245, 반복 : 20 / 30, 에폭 : 0.06 \n",
            "에폭 : 245, 반복 : 30 / 30, 에폭 : 0.09 \n",
            "에폭 : 246, 반복 : 10 / 30, 에폭 : 0.09 \n",
            "에폭 : 246, 반복 : 20 / 30, 에폭 : 0.07 \n",
            "에폭 : 246, 반복 : 30 / 30, 에폭 : 0.07 \n",
            "에폭 : 247, 반복 : 10 / 30, 에폭 : 0.06 \n",
            "에폭 : 247, 반복 : 20 / 30, 에폭 : 0.06 \n",
            "에폭 : 247, 반복 : 30 / 30, 에폭 : 0.09 \n",
            "에폭 : 248, 반복 : 10 / 30, 에폭 : 0.06 \n",
            "에폭 : 248, 반복 : 20 / 30, 에폭 : 0.07 \n",
            "에폭 : 248, 반복 : 30 / 30, 에폭 : 0.09 \n",
            "에폭 : 249, 반복 : 10 / 30, 에폭 : 0.09 \n",
            "에폭 : 249, 반복 : 20 / 30, 에폭 : 0.06 \n",
            "에폭 : 249, 반복 : 30 / 30, 에폭 : 0.07 \n",
            "에폭 : 250, 반복 : 10 / 30, 에폭 : 0.08 \n",
            "에폭 : 250, 반복 : 20 / 30, 에폭 : 0.05 \n",
            "에폭 : 250, 반복 : 30 / 30, 에폭 : 0.08 \n",
            "에폭 : 251, 반복 : 10 / 30, 에폭 : 0.07 \n",
            "에폭 : 251, 반복 : 20 / 30, 에폭 : 0.06 \n",
            "에폭 : 251, 반복 : 30 / 30, 에폭 : 0.08 \n",
            "에폭 : 252, 반복 : 10 / 30, 에폭 : 0.06 \n",
            "에폭 : 252, 반복 : 20 / 30, 에폭 : 0.06 \n",
            "에폭 : 252, 반복 : 30 / 30, 에폭 : 0.09 \n",
            "에폭 : 253, 반복 : 10 / 30, 에폭 : 0.08 \n",
            "에폭 : 253, 반복 : 20 / 30, 에폭 : 0.08 \n",
            "에폭 : 253, 반복 : 30 / 30, 에폭 : 0.06 \n",
            "에폭 : 254, 반복 : 10 / 30, 에폭 : 0.08 \n",
            "에폭 : 254, 반복 : 20 / 30, 에폭 : 0.06 \n",
            "에폭 : 254, 반복 : 30 / 30, 에폭 : 0.08 \n",
            "에폭 : 255, 반복 : 10 / 30, 에폭 : 0.10 \n",
            "에폭 : 255, 반복 : 20 / 30, 에폭 : 0.04 \n",
            "에폭 : 255, 반복 : 30 / 30, 에폭 : 0.08 \n",
            "에폭 : 256, 반복 : 10 / 30, 에폭 : 0.05 \n",
            "에폭 : 256, 반복 : 20 / 30, 에폭 : 0.05 \n",
            "에폭 : 256, 반복 : 30 / 30, 에폭 : 0.12 \n",
            "에폭 : 257, 반복 : 10 / 30, 에폭 : 0.07 \n",
            "에폭 : 257, 반복 : 20 / 30, 에폭 : 0.06 \n",
            "에폭 : 257, 반복 : 30 / 30, 에폭 : 0.10 \n",
            "에폭 : 258, 반복 : 10 / 30, 에폭 : 0.07 \n",
            "에폭 : 258, 반복 : 20 / 30, 에폭 : 0.08 \n",
            "에폭 : 258, 반복 : 30 / 30, 에폭 : 0.07 \n",
            "에폭 : 259, 반복 : 10 / 30, 에폭 : 0.07 \n",
            "에폭 : 259, 반복 : 20 / 30, 에폭 : 0.08 \n",
            "에폭 : 259, 반복 : 30 / 30, 에폭 : 0.07 \n",
            "에폭 : 260, 반복 : 10 / 30, 에폭 : 0.05 \n",
            "에폭 : 260, 반복 : 20 / 30, 에폭 : 0.10 \n",
            "에폭 : 260, 반복 : 30 / 30, 에폭 : 0.06 \n",
            "에폭 : 261, 반복 : 10 / 30, 에폭 : 0.06 \n",
            "에폭 : 261, 반복 : 20 / 30, 에폭 : 0.06 \n",
            "에폭 : 261, 반복 : 30 / 30, 에폭 : 0.09 \n",
            "에폭 : 262, 반복 : 10 / 30, 에폭 : 0.07 \n",
            "에폭 : 262, 반복 : 20 / 30, 에폭 : 0.09 \n",
            "에폭 : 262, 반복 : 30 / 30, 에폭 : 0.06 \n",
            "에폭 : 263, 반복 : 10 / 30, 에폭 : 0.06 \n",
            "에폭 : 263, 반복 : 20 / 30, 에폭 : 0.06 \n",
            "에폭 : 263, 반복 : 30 / 30, 에폭 : 0.09 \n",
            "에폭 : 264, 반복 : 10 / 30, 에폭 : 0.07 \n",
            "에폭 : 264, 반복 : 20 / 30, 에폭 : 0.08 \n",
            "에폭 : 264, 반복 : 30 / 30, 에폭 : 0.06 \n",
            "에폭 : 265, 반복 : 10 / 30, 에폭 : 0.10 \n",
            "에폭 : 265, 반복 : 20 / 30, 에폭 : 0.05 \n",
            "에폭 : 265, 반복 : 30 / 30, 에폭 : 0.06 \n",
            "에폭 : 266, 반복 : 10 / 30, 에폭 : 0.08 \n",
            "에폭 : 266, 반복 : 20 / 30, 에폭 : 0.09 \n",
            "에폭 : 266, 반복 : 30 / 30, 에폭 : 0.06 \n",
            "에폭 : 267, 반복 : 10 / 30, 에폭 : 0.09 \n",
            "에폭 : 267, 반복 : 20 / 30, 에폭 : 0.05 \n",
            "에폭 : 267, 반복 : 30 / 30, 에폭 : 0.07 \n",
            "에폭 : 268, 반복 : 10 / 30, 에폭 : 0.08 \n",
            "에폭 : 268, 반복 : 20 / 30, 에폭 : 0.07 \n",
            "에폭 : 268, 반복 : 30 / 30, 에폭 : 0.06 \n",
            "에폭 : 269, 반복 : 10 / 30, 에폭 : 0.08 \n",
            "에폭 : 269, 반복 : 20 / 30, 에폭 : 0.06 \n",
            "에폭 : 269, 반복 : 30 / 30, 에폭 : 0.08 \n",
            "에폭 : 270, 반복 : 10 / 30, 에폭 : 0.08 \n",
            "에폭 : 270, 반복 : 20 / 30, 에폭 : 0.07 \n",
            "에폭 : 270, 반복 : 30 / 30, 에폭 : 0.06 \n",
            "에폭 : 271, 반복 : 10 / 30, 에폭 : 0.06 \n",
            "에폭 : 271, 반복 : 20 / 30, 에폭 : 0.08 \n",
            "에폭 : 271, 반복 : 30 / 30, 에폭 : 0.08 \n",
            "에폭 : 272, 반복 : 10 / 30, 에폭 : 0.05 \n",
            "에폭 : 272, 반복 : 20 / 30, 에폭 : 0.05 \n",
            "에폭 : 272, 반복 : 30 / 30, 에폭 : 0.11 \n",
            "에폭 : 273, 반복 : 10 / 30, 에폭 : 0.07 \n",
            "에폭 : 273, 반복 : 20 / 30, 에폭 : 0.06 \n",
            "에폭 : 273, 반복 : 30 / 30, 에폭 : 0.07 \n",
            "에폭 : 274, 반복 : 10 / 30, 에폭 : 0.10 \n",
            "에폭 : 274, 반복 : 20 / 30, 에폭 : 0.06 \n",
            "에폭 : 274, 반복 : 30 / 30, 에폭 : 0.04 \n",
            "에폭 : 275, 반복 : 10 / 30, 에폭 : 0.06 \n",
            "에폭 : 275, 반복 : 20 / 30, 에폭 : 0.05 \n",
            "에폭 : 275, 반복 : 30 / 30, 에폭 : 0.10 \n",
            "에폭 : 276, 반복 : 10 / 30, 에폭 : 0.10 \n",
            "에폭 : 276, 반복 : 20 / 30, 에폭 : 0.04 \n",
            "에폭 : 276, 반복 : 30 / 30, 에폭 : 0.06 \n",
            "에폭 : 277, 반복 : 10 / 30, 에폭 : 0.06 \n",
            "에폭 : 277, 반복 : 20 / 30, 에폭 : 0.06 \n",
            "에폭 : 277, 반복 : 30 / 30, 에폭 : 0.08 \n",
            "에폭 : 278, 반복 : 10 / 30, 에폭 : 0.10 \n",
            "에폭 : 278, 반복 : 20 / 30, 에폭 : 0.07 \n",
            "에폭 : 278, 반복 : 30 / 30, 에폭 : 0.04 \n",
            "에폭 : 279, 반복 : 10 / 30, 에폭 : 0.06 \n",
            "에폭 : 279, 반복 : 20 / 30, 에폭 : 0.06 \n",
            "에폭 : 279, 반복 : 30 / 30, 에폭 : 0.08 \n",
            "에폭 : 280, 반복 : 10 / 30, 에폭 : 0.08 \n",
            "에폭 : 280, 반복 : 20 / 30, 에폭 : 0.06 \n",
            "에폭 : 280, 반복 : 30 / 30, 에폭 : 0.07 \n",
            "에폭 : 281, 반복 : 10 / 30, 에폭 : 0.08 \n",
            "에폭 : 281, 반복 : 20 / 30, 에폭 : 0.06 \n",
            "에폭 : 281, 반복 : 30 / 30, 에폭 : 0.07 \n",
            "에폭 : 282, 반복 : 10 / 30, 에폭 : 0.07 \n",
            "에폭 : 282, 반복 : 20 / 30, 에폭 : 0.06 \n",
            "에폭 : 282, 반복 : 30 / 30, 에폭 : 0.07 \n",
            "에폭 : 283, 반복 : 10 / 30, 에폭 : 0.06 \n",
            "에폭 : 283, 반복 : 20 / 30, 에폭 : 0.09 \n",
            "에폭 : 283, 반복 : 30 / 30, 에폭 : 0.06 \n",
            "에폭 : 284, 반복 : 10 / 30, 에폭 : 0.05 \n",
            "에폭 : 284, 반복 : 20 / 30, 에폭 : 0.07 \n",
            "에폭 : 284, 반복 : 30 / 30, 에폭 : 0.08 \n",
            "에폭 : 285, 반복 : 10 / 30, 에폭 : 0.06 \n",
            "에폭 : 285, 반복 : 20 / 30, 에폭 : 0.08 \n",
            "에폭 : 285, 반복 : 30 / 30, 에폭 : 0.06 \n",
            "에폭 : 286, 반복 : 10 / 30, 에폭 : 0.05 \n",
            "에폭 : 286, 반복 : 20 / 30, 에폭 : 0.07 \n",
            "에폭 : 286, 반복 : 30 / 30, 에폭 : 0.07 \n",
            "에폭 : 287, 반복 : 10 / 30, 에폭 : 0.08 \n",
            "에폭 : 287, 반복 : 20 / 30, 에폭 : 0.06 \n",
            "에폭 : 287, 반복 : 30 / 30, 에폭 : 0.06 \n",
            "에폭 : 288, 반복 : 10 / 30, 에폭 : 0.08 \n",
            "에폭 : 288, 반복 : 20 / 30, 에폭 : 0.05 \n",
            "에폭 : 288, 반복 : 30 / 30, 에폭 : 0.07 \n",
            "에폭 : 289, 반복 : 10 / 30, 에폭 : 0.07 \n",
            "에폭 : 289, 반복 : 20 / 30, 에폭 : 0.08 \n",
            "에폭 : 289, 반복 : 30 / 30, 에폭 : 0.06 \n",
            "에폭 : 290, 반복 : 10 / 30, 에폭 : 0.06 \n",
            "에폭 : 290, 반복 : 20 / 30, 에폭 : 0.07 \n",
            "에폭 : 290, 반복 : 30 / 30, 에폭 : 0.07 \n",
            "에폭 : 291, 반복 : 10 / 30, 에폭 : 0.09 \n",
            "에폭 : 291, 반복 : 20 / 30, 에폭 : 0.05 \n",
            "에폭 : 291, 반복 : 30 / 30, 에폭 : 0.06 \n",
            "에폭 : 292, 반복 : 10 / 30, 에폭 : 0.06 \n",
            "에폭 : 292, 반복 : 20 / 30, 에폭 : 0.07 \n",
            "에폭 : 292, 반복 : 30 / 30, 에폭 : 0.08 \n",
            "에폭 : 293, 반복 : 10 / 30, 에폭 : 0.07 \n",
            "에폭 : 293, 반복 : 20 / 30, 에폭 : 0.08 \n",
            "에폭 : 293, 반복 : 30 / 30, 에폭 : 0.05 \n",
            "에폭 : 294, 반복 : 10 / 30, 에폭 : 0.07 \n",
            "에폭 : 294, 반복 : 20 / 30, 에폭 : 0.06 \n",
            "에폭 : 294, 반복 : 30 / 30, 에폭 : 0.07 \n",
            "에폭 : 295, 반복 : 10 / 30, 에폭 : 0.06 \n",
            "에폭 : 295, 반복 : 20 / 30, 에폭 : 0.08 \n",
            "에폭 : 295, 반복 : 30 / 30, 에폭 : 0.07 \n",
            "에폭 : 296, 반복 : 10 / 30, 에폭 : 0.06 \n",
            "에폭 : 296, 반복 : 20 / 30, 에폭 : 0.08 \n",
            "에폭 : 296, 반복 : 30 / 30, 에폭 : 0.08 \n",
            "에폭 : 297, 반복 : 10 / 30, 에폭 : 0.04 \n",
            "에폭 : 297, 반복 : 20 / 30, 에폭 : 0.09 \n",
            "에폭 : 297, 반복 : 30 / 30, 에폭 : 0.07 \n",
            "에폭 : 298, 반복 : 10 / 30, 에폭 : 0.09 \n",
            "에폭 : 298, 반복 : 20 / 30, 에폭 : 0.07 \n",
            "에폭 : 298, 반복 : 30 / 30, 에폭 : 0.05 \n",
            "에폭 : 299, 반복 : 10 / 30, 에폭 : 0.07 \n",
            "에폭 : 299, 반복 : 20 / 30, 에폭 : 0.08 \n",
            "에폭 : 299, 반복 : 30 / 30, 에폭 : 0.06 \n",
            "에폭 : 300, 반복 : 10 / 30, 에폭 : 0.09 \n",
            "에폭 : 300, 반복 : 20 / 30, 에폭 : 0.07 \n",
            "에폭 : 300, 반복 : 30 / 30, 에폭 : 0.05 \n"
          ],
          "name": "stdout"
        }
      ]
    },
    {
      "cell_type": "markdown",
      "metadata": {
        "id": "Zk9Kg9zi0Nf2",
        "colab_type": "text"
      },
      "source": [
        "Trainer 클래스 // 신경망 계산 고속화(비트정밀도, GPU ) 안다룸"
      ]
    },
    {
      "cell_type": "code",
      "metadata": {
        "id": "iCnFoSi5tfQj",
        "colab_type": "code",
        "colab": {}
      },
      "source": [
        ""
      ],
      "execution_count": 0,
      "outputs": []
    },
    {
      "cell_type": "code",
      "metadata": {
        "id": "ZUeiOoEmtfNq",
        "colab_type": "code",
        "colab": {}
      },
      "source": [
        ""
      ],
      "execution_count": 0,
      "outputs": []
    },
    {
      "cell_type": "code",
      "metadata": {
        "id": "cMjNEbnLrkQn",
        "colab_type": "code",
        "colab": {}
      },
      "source": [
        ""
      ],
      "execution_count": 0,
      "outputs": []
    },
    {
      "cell_type": "code",
      "metadata": {
        "id": "Ln4EyWmBrkOM",
        "colab_type": "code",
        "colab": {}
      },
      "source": [
        ""
      ],
      "execution_count": 0,
      "outputs": []
    }
  ]
}